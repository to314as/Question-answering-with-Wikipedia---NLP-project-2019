{
 "cells": [
  {
   "cell_type": "markdown",
   "metadata": {},
   "source": [
    "## Load data"
   ]
  },
  {
   "cell_type": "code",
   "execution_count": 7,
   "metadata": {},
   "outputs": [
    {
     "name": "stdout",
     "output_type": "stream",
     "text": [
      "1479 1479 1479 250\n",
      "['1701', '1702', '1710', '1711', '1714', '1715', '1716', '1717', '1718', '1719']\n",
      "['https://en.wikipedia.org/wiki?curid=1701', 'https://en.wikipedia.org/wiki?curid=1702', 'https://en.wikipedia.org/wiki?curid=1710']\n",
      "['Amazon River', 'Alfred of Beverley', 'April 22', 'August 31', 'Autpert Ambrose', 'Abu Bakr', 'Ambrose Traversari', 'Ambrosians', 'Ambrosiaster', 'Ambrosius Aurelianus', 'Ammon', 'Ammonius Hermiae', 'Ammonius Saccas', 'Book of Amos', 'Amphipolis', 'Amram', 'Amyntas I of Macedon', 'Amyntas III of Macedon', 'Anacharsis', 'Anah', 'Ānanda', 'Anaxagoras', 'Anaxarchus', 'Ancyra (genus)', 'Anastasius I', 'Anastasius II', 'Anaximenes of Lampsacus', 'Anastasius', 'Auguste and Louis Lumière', 'Acts of the Apostles', 'Assyria', 'Abijah', 'Ark', 'Aphasia', 'Aorta', 'Abimelech', 'Andrew Tridgell', 'Applesoft BASIC', 'Asterix', 'Arizona Cardinals', 'Atlanta Falcons', 'Heathenry in the United States', 'Ansible', 'Amiga', 'Absorption', 'Actinophryid', 'Abel Tasman', 'August 5', 'Angula', 'ASP', 'Algebraic geometry', 'Austin, Texas', 'Argument from morality', 'ASL (disambiguation)', 'Agrippina the Younger', 'American Chinese cuisine', 'Ahenobarbus', 'Ahmad Shah Durrani', 'Arthur Aikin', 'Ailanthus', 'Aimoin', 'Akkadian Empire', 'Ajax the Lesser', 'Ajax the Great', 'Ajax', 'Alaric I', 'Alaric II', 'Albertus Magnus', 'Alboin', 'Afonso de Albuquerque', 'Alcaeus of Mytilene', 'Alcamenes', 'Alcmene', 'Alcidamas', 'Abano Terme', 'Abated', 'Abati', 'Abatis', \"Antoine Thomson d'Abbadie\", 'Abba Mari', 'Abbas II of Egypt', 'Abbas Mirza', 'George Abbot (bishop)', 'Adware', 'Aeacus', 'Aeclanum', 'Aedesius', 'Aedicula', 'Aedui', 'Aegadian Islands', 'Aegean civilization', 'Aegeus', 'Aegina', 'Aegis', 'Aegisthus', 'Aegospotami', 'Aelia Capitolina', 'Aelian', 'Aelianus Tacticus', 'Agarose', 'Atomic absorption spectroscopy', 'Arthur St. Clair', 'Ajaccio', 'Ajaigarh', 'Autonomous building', 'Anubis', 'Arthur Jensen', 'A Funny Thing Happened on the Way to the Forum', 'Aleut', 'Alaska Native Claims Settlement Act', 'Adoptionism', 'Apollinarism', 'Acid–base reaction', 'Abu al-Faraj al-Isfahani', 'Alcobaça, Portugal', 'Amphisbaena', 'Amyl alcohol', 'Amyl nitrite', 'Autumn', 'Alameda, California', 'Alpha helix', 'Accrington', 'Armageddon', 'Britney Spears', 'Brazil', 'Black Forest', 'Black Sea', 'Allosaurus', 'AK-47', 'Atanasoff–Berry computer', 'Andes', 'Ancylopoda', 'Anchor', 'Anbar (town)', 'Anazarbus', 'Anagram', 'Anadyr River', 'André-Marie Ampère', 'Ammonia', 'Amethyst', 'Aluminium', 'Advanced Chemistry', 'Anglican Communion', 'Arne Kaijser', 'Archipelago', 'Author', 'Andrey Markov', 'Angst', 'Anxiety', 'A. A. Milne', 'Asociación Alumni', 'Axiom', 'Alpha', 'Alvin Toffler', 'The Amazing Spider-Man', 'AM', 'Antigua and Barbuda', 'Azincourt', 'Accordion', 'Artificial intelligence', 'Afro Celt Sound System', 'Ancient philosophy', 'Anaximander', 'APL', 'Architect', 'Abbreviation', 'Aphrodite', 'April 1', 'Antisymmetric relation', 'Anarchism', 'Autism', 'Albedo', 'A', 'Alabama', 'Achilles', 'Bill Clinton', 'Black letter law', 'Blue law', 'Bar (disambiguation)', 'Beer', 'Bit', 'Byte', 'Boron nitride', 'Bach (disambiguation)', 'Blood on the Tracks', 'Love and Theft (Bob Dylan album)', 'The Beverly Hillbillies', 'Beryllium', 'Area 51', 'Audio signal processing', \"Amdahl's law\", 'April 27', 'Ayahuasca', 'Alfonso Leng', 'Abbe number', 'ACN', 'AD (disambiguation)', 'Ablative case', 'Adamic language', 'Rise and Fall of the City of Mahagonny', 'Avery Hopwood', 'Antipope Felix II', 'Alkaloid', 'Adventism', 'Archbishop of Canterbury', 'Albion, Michigan', 'Anointing of the sick', 'Abstract data type', 'American Football League', 'Anthropic principle', 'Australian Army', 'American Registry for Internet Numbers', 'Asimov (disambiguation)', 'Akihabara', 'Active Directory', 'Arian (disambiguation)', 'Aldona of Lithuania', 'Aron Nimzowitsch', 'Aragonese language', 'Advanced Mobile Phone System', 'Aerodynamics', 'Andreas Schlüter', 'Ash', 'Antiderivative', 'Alphabet song', 'Antigonid dynasty', 'Abingdon', 'Abjuration', 'Abitibi', 'A Vindication of the Rights of Woman', 'Afghan Hound', 'Azawakh', 'Acrylic paint', 'Angular momentum', 'Plum pudding model', 'Anal sex', 'Aarau', 'Canton of Aargau', 'Aba', 'Ababda people', 'American Quarter Horse', 'Abacá', 'Abaddon', 'Abadeh', 'Abae', 'Abakan', 'Arc de Triomphe', 'April 21', 'ATM', 'Amazonite', 'Ambrosius Bosschaert', 'Anthroposophy', 'Aurochs', 'Asynchronous transfer mode', 'Anus', 'Appendix', 'Acantharea', 'African National Congress', 'Aalen', 'Alois Alzheimer', 'Aedile', 'American Airlines', 'Antidepressant', 'Auger effect', 'Akio Morita', 'Anode', 'Analog television', 'April 11', 'Adhesive', 'Anthony Hopkins', \"Ardal O'Hanlon\", 'AOL', 'Anno Domini', 'AV', 'Alcuin', 'Angilbert', 'Amine', 'April 29', 'August 14', 'Absolute zero', 'Adiabatic process', 'Amide', 'Animism', 'Antonio Vivaldi', 'Adrian', 'Aare', 'Abbotsford House', 'Abraham', 'Abraxas', 'Absalom', 'Abydos', 'Ahmed I', 'Ahmed II', 'Ahmed III', 'Ainu people', 'Acropolis', 'Acupuncture', 'Adder', 'Aeneas', 'April 13', 'Amaranth', 'Agapanthus africanus', 'Agamemnon', 'Aga Khan I', 'Aga Khan III', 'Agasias', 'Alexander Agassiz', 'Agathon', 'Agesilaus II', 'Agis', 'Antonio Agliardi', 'Agnes of Merania', 'Agrippina the Elder', 'Steel-string acoustic guitar', 'Antipope John XXIII', 'Antonio Salieri', 'Cobble Hill Tunnel', 'Annapolis Valley', 'Analgesic', 'Abiotic stress', 'Accusative case', 'Apostolic succession', 'Chemistry of ascorbic acid', 'AFC Ajax', 'Arthur Eddington', 'Apple II', 'April 3', 'Animation', 'Apollo', 'Andre Agassi', 'Austroasiatic languages', 'Afroasiatic languages', 'Andorra', 'Arithmetic mean', 'American Football Conference', 'Aleister Crowley', 'Afterlife', 'Astrometry', 'Athena', 'Amber Diceless Roleplaying Game', 'Athene (disambiguation)', 'Alloy', 'Artistic revolution', 'Agrarianism', 'Atomic', 'Aldine Press', 'Ealdred (archbishop of York)', 'Alexander I of Epirus', 'Alexander Balas', 'Alexander of Pherae', 'Alexander II of Epirus', 'Alexander Jagiellon', 'Alexander III of Russia', 'Alexander I of Scotland', 'Alexander II of Scotland', 'Alexander I of Serbia', 'Alexander III of Scotland', 'Alexander of Greece (disambiguation)', 'Alexander of Aphrodisias', 'Severus Alexander', 'Alexander', 'Alexander I', 'Alexander II', 'Alexander III', 'Alexander Aetolus', 'Alexander Jannaeus', 'Alexander IV', 'Alexander V', 'Alexandrists', 'Alexios I Komnenos', 'Alexis (poet)', 'Alexios II Komnenos', 'Alexios III Angelos', 'Alexios V Doukas', 'Alexei Petrovich, Tsarevich of Russia', 'Bryozoa', 'Biennial plant', 'Bay leaf', 'Basis', 'Burgess Shale', 'Beavis and Butt-Head', 'Bromeliales', 'Brassicales', 'Bulletin board system', 'String Quartet No. 16 (Beethoven)', 'Symphony No. 9 (Beethoven)', 'Piano Trios, Op. 1 (Beethoven)', 'Piano Trios, Op. 70 (Beethoven)', 'Piano Trio, Op. 97 (Beethoven)', 'Violin Sonata No. 5 (Beethoven)', 'Barratry (common law)', 'Bomber', 'Cue sports', 'Big Dipper (disambiguation)', 'Bursa', 'The Bahamas', 'Baker Island', 'Ark of the Covenant', 'Angles', 'Aster CT-80', 'Arthur Wellesley', 'List of animated television series', 'Atlanta Braves', 'Atari ST', 'List of artificial intelligence projects', 'Aaliyah', 'Armour', 'Analysis of variance', 'Alkane', 'Appellate procedure in the United States', 'Answer (law)', 'Appellate court', 'Arraignment', 'America the Beautiful', 'Assistive technology', 'Abacus', 'Acid', 'Asphalt', 'American National Standards Institute', 'Argument (disambiguation)', 'Acts of Union 1707', 'Admiralty', 'Amphibian (disambiguation)', 'Amputation', 'Anemometer', 'Archaeopteryx', 'Arthur Laurents', 'Adrian Lamo', 'Associate Justice of the Supreme Court of the United States', 'Alan Jay Lerner', 'Al Capp', 'Ann Druyan', 'Analcime', 'Alexey Pajitnov', \"`Abdu'l-Bahá\", 'Ambrose of Alexandria', 'Angle', 'Asa', 'Acoustics', 'Atomic physics', 'American Sign Language', 'Applet', 'Alternate history', 'Atomic orbital', 'Amino acid', 'Alan Turing', 'Agnosticism', 'Argon', 'Arsenic', 'Antimony', 'Actinium', 'Americium', 'Astatine', 'Atom', 'Arable land', 'Abscess', 'Aalborg Municipality', 'Aarhus', 'Northern cavefish', 'Abatement', 'Amateur', 'Alexis Carrel', \"All Souls' Day\", 'Anatole France', 'André Gide', 'Algorithms for calculating variance', 'Almond', 'Demographics of Antigua and Barbuda', 'Politics of Antigua and Barbuda', 'Telecommunications in Antigua and Barbuda', 'Royal Antigua and Barbuda Defence Force', 'Adhemar of Le Puy', 'Alphonse, Count of Poitiers', 'Alfonso Jordan', 'Ambroise', 'Art Deco', 'ASCII art', 'Alexius', 'American English', 'Albert Spalding', 'Africa Alphabet', 'Acquire', 'Australian English', 'American Airlines Flight 77', 'Ambush', 'Abzyme', 'Adaptive radiation', 'Agarose gel electrophoresis', 'Aeschylus', 'Amber Road', 'Crandall University', 'Andrew Wiles', 'Ambient', 'Anne Brontë', 'Augustine of Hippo', 'Acting', 'Delian League', 'August Horch', 'Avionics', 'Ares', 'Alexander Grothendieck', 'Alcoholics Anonymous', 'Alpha compositing', 'Bible', 'British Columbia', 'Gautama Buddha', 'Bridge', 'Beadwork', 'Board game', 'Bead', 'Bead weaving', 'Branchiopoda', 'Amphetamine', 'Asynchronous communication', 'Artillery', 'Arnulf of Carinthia', 'Alexanderplatz', 'Asian Development Bank', 'Aswan', 'Adelaide of Italy', 'Airbus A300', 'Agostino Carracci', 'Adenylyl cyclase', 'Alexandra', 'Articolo 31', 'Alexander Kerensky', 'Ansgar', 'Automated theorem proving', 'Axiom of choice', 'Attila', 'Aegean Sea', 'A Clockwork Orange (novel)', 'Amsterdam', 'Museum of Work', 'Audi', 'Aircraft', 'Alfred Nobel', 'American Civil War', 'Andy Warhol', 'Alp Arslan', 'American Film Institute', 'Akira Kurosawa', 'Ashoka', 'American (word)', 'Ada (programming language)', 'Alfonso Cuarón', 'Arianism', 'August 1', 'Antoninus Pius', 'August 3', 'Advanced Encryption Standard', 'April 26', 'Anisotropy', 'Alpha decay', 'Extreme poverty', 'Analytical Engine', 'Apuleius', 'Alexander Selkirk', 'Anti-ballistic missile', 'August 29', 'August 30', 'Acre', 'ATP', 'Adenosine triphosphate', 'Ægir', 'Antibiotic', 'Arnold Schwarzenegger', 'ASA', 'Actium', 'Amway', 'Armed Forces of Armenia', 'Foreign relations of Armenia', 'Demographics of American Samoa', 'Politics of American Samoa', 'Economy of American Samoa', 'August 13', 'Avicenna', 'The Ashes', 'Analysis', 'Abner Doubleday', \"America's National Game\", 'Amplitude modulation', 'Albert Sidney Johnston', 'Android (robot)', 'Alberta', 'List of anthropologists', 'Actinopterygii', 'Albert Einstein', 'Afghanistan', 'Apollo 11', 'Apollo 8', 'Astronaut', 'A Modest Proposal', 'Alkali metal', 'Animal Farm', 'Amphibian', 'Alaska', 'Agriculture', 'Aldous Huxley', 'Ada', 'Aberdeen (disambiguation)', 'Algae', 'Articles of Confederation', 'Asia Minor (disambiguation)', 'Atlantic Ocean', 'Arthur Schopenhauer', 'Angola', 'Demographics of Angola', 'Politics of Angola', 'Economy of Angola', 'Transport in Angola', 'Angolan Armed Forces', 'Foreign relations of Angola', 'Albert Speer', 'Asteraceae', 'Apiaceae', 'Axon', 'Aramaic alphabet', 'American shot', 'Acute disseminated encephalomyelitis', 'Ataxia', 'Abdul Alhazred', 'Ada Lovelace', 'August Derleth', 'Alps', 'Abydos, Egypt', 'Abydos (Hellespont)', 'August 15', 'Acacia sensu lato', 'Acapulco', 'August 16', 'Alan Kay', 'APL (programming language)', 'ALGOL', 'AWK', 'Asgard', 'Apollo program', 'Assault', 'Álfheimr', 'Ask and Embla', 'Alabama River', 'Alain de Lille', 'Anaximenes of Miletus', 'Ancus Marcius', 'Andaman Islands', 'Alexander Anderson (mathematician)', 'Andocides', 'Andrea Andreani', 'Andrew II of Hungary', 'An Enquiry Concerning Human Understanding', 'André de Longjumeau', 'Andriscus', 'Andronikos III Palaiologos', 'Andronikos II Palaiologos', 'Andronikos I Komnenos', 'Andronicus of Cyrrhus', 'Andronicus of Rhodes', 'Andronicus', 'Ammianus Marcellinus', 'Apollo 13', 'Apollo 7', 'Apollo 9', 'Arthritis', 'April 2', 'Acetylene', 'Alfred', 'August 28', 'Arabic numerals', 'April 9', 'ABM', 'Convex uniform honeycomb', 'Assassination', 'Optical audio disc', 'Alcoholism', 'Abstraction', 'Abelian group', 'Anti-Ballistic Missile Treaty', 'Austria-Hungary', 'Abracadabra', 'Albert Camus', 'Agatha Christie', 'The Plague', 'Applied ethics', 'Absolute value', 'Analog signal', 'Arecales', 'Hercule Poirot', 'Miss Marple', 'April', 'August', 'Aaron', 'April 6', 'April 12', 'April 15', 'April 30', 'August 22', 'August 27', 'Alcohol', 'Achill Island', 'Algebraic closure', 'Advanced Power Management', 'Adolphe Sax', 'Aspirated consonant', 'Arteriovenous malformation', 'Atlanta', 'Axiology', \"A Doll's House\", 'AIM-7 Sparrow', 'AIM-120 AMRAAM', 'AGM-88 HARM', 'AGM-65 Maverick', 'AIM-54 Phoenix', 'Lockheed AC-130', 'Alternative', 'Alternative algebra', 'Arbitrage', 'Allele', 'Ampicillin', 'Annealing', 'Antimicrobial resistance', 'Antigen', 'Autosome', 'Antwerp (disambiguation)', 'Aquila', 'Al-Qaeda', 'Alessandro Volta', 'Argo Navis', 'Andromeda (mythology)', 'Antlia', 'Ara (constellation)', 'Auriga', 'Arkansas', 'Atmosphere (disambiguation)', 'Apus', 'Belgium', 'BLM', 'Blues', 'Bluegrass', 'Berlin', 'Benjamin Lee Whorf', 'ACE inhibitor', 'Antianginal', 'Anatomical Therapeutic Chemical Classification System', 'Parallel ATA', 'Atari 2600', 'Atari 5200', 'Atari 7800', 'Atari Jaguar', 'Atari Lynx', 'Ahimsa', 'Annals of Mathematics', 'Andrei Sakharov', 'Astrobiology', 'Air show', 'Ayn Rand', 'Alain Connes', 'Allan Dwan', 'Algeria', 'List of Atlas Shrugged characters', 'Anthropology', 'Agricultural science', 'Alchemy', 'Alien', 'Astronomer', 'ASCII', 'Austin (disambiguation)', 'ACF Fiorentina', 'Afrobeat', 'Arithmetic function', 'ANSI C', 'Alien and Sedition Acts', 'Antinomy', 'Ascending chain condition', 'Adin Steinsaltz', 'A. E. Housman', 'Attribution of recent climate change', 'Achduart', 'Achiltibuie', 'Adaptive expectations', 'Mexican tetra', 'Atom probe', 'Al Capone', 'Amplifier figures of merit', 'Army of Darkness', 'RUR-5 ASROC', 'Ahmed al-Nami', 'Ahmed al-Haznawi', 'Alexander Graham Bell', 'Anatolia', 'Apple Inc.', 'Aberdeenshire', 'Aztlan Underground', 'Augustus', 'Geography of Antarctica', 'Transport in Antarctica', 'Geography of Alabama', 'List of Governors of Alabama', 'Apocrypha', 'Antarctic Treaty System', 'Alfred Lawson', 'Ames, Iowa', 'Abalone', 'Abbess', 'Abdominal surgery', 'Abduction', 'Abensberg', 'Arminianism', 'The Alan Parsons Project', 'Almost all', 'Ajanta Caves', 'Ajmer', 'Ajmer-Merwara', 'Abatement of debts and legacies', 'Affection', 'Affiliation (family law)', 'Affinity', 'Affray', 'Afghan Turkestan', 'Afyonkarahisar', 'Abba Arika', 'Abbahu', 'Abbreviator', 'Abd al-Latif al-Baghdadi', 'Abd al-Rahman I', 'Abd al-Rahman II', 'Abd al-Rahman III', 'Abd al-Rahman IV', 'Abd al-Rahman V', 'Abdülaziz', 'Abdera, Spain', 'Abdera, Thrace', 'Apollos', 'Acquis communautaire', 'Antacid', 'Antidiarrhoeal', 'Áed mac Cináeda', 'Abdul Hamid I', 'Abdur Rahman Khan', 'Abencerrages', 'Aberavon (UK Parliament constituency)', 'Abercarn', 'Allen Ginsberg', 'Algebraically closed field', 'August 6', 'Anatoly Karpov', 'Aspect ratio', 'Auto racing', 'Anarcho-capitalism', 'August 9', 'Aristophanes', 'Albert Schweitzer', 'Austrian School', 'Athlon', 'Amnon', 'Amu Darya', 'Muslim conquests of Afghanistan', 'Durrani Empire', 'Aimaq people', 'Arcturus', 'Androphagi', 'Albert Brooks', 'Antares', 'Aldebaran', 'Altair', 'Australian Broadcasting Corporation', 'Almoravid dynasty', 'Aloe', 'Alyattes of Lydia', 'Age of consent', 'Alypius of Antioch', 'Amalasuntha', 'Amalric of Bena', 'Afonso I of Portugal', 'Afonso II of Portugal', 'Afonso III of Portugal', 'Afonso IV of Portugal', 'Afonso V of Portugal', 'Afonso VI of Portugal', 'Alphonso I of Spain', 'Alfonso II of Asturias', 'Amarasimha', 'Alfonso XII of Spain', 'Alfonso XIII of Spain', 'Alfonso the Battler', 'Amaryllis', 'Alfonso III of Aragon', 'Alfonso IV of Aragon', 'Amasis II', 'Alfonso V of Aragon', 'Amathus', 'Alphons', 'Alfonso I', 'Amati', 'Alfonso II', 'Alfonso III', 'Alfonso IV', 'Amazons', 'Alfonso V', 'Ambergris', 'Ambiorix', 'August Wilhelm Ambros', 'Athanasius of Alexandria', 'Azores', 'Outback', 'Absolute Infinite', 'Acceptance testing', 'Archbishopric of Riga', 'Albert Frederick, Duke of Prussia', 'Ansbach', 'National Alliance (Italy)', 'Arno', 'Aveiro, Portugal', 'Anthony the Great', 'Amblypoda', 'Amblygonite', 'Amygdalin', 'Running amok', \"Apostles' Creed\", 'Amicable numbers', 'Agar', 'Acid rain', 'Acephali', 'Anthony of Saxony', 'Albert III, Duke of Saxony', 'Apollo 15', 'Apollo 16', 'Apollo 17', 'American Revolution', 'April 17', 'Alan Ayckbourn', 'Alpha Centauri', 'Aromatic hydrocarbon', 'Abbey', 'Annales school', 'Antimatter', 'Casa Batlló', 'Park Güell', 'Casa Milà', 'Antiparticle', 'Arabian Prince', 'August 7', 'August 8', 'April 16', 'Associative property', 'The Apache Software Foundation', 'Americans with Disabilities Act of 1990', 'Apple I', 'Apatosaurus', 'Ancient Egypt', 'Analog Brothers', 'Motor neuron disease', 'Abjad', 'Abugida', 'ABBA', 'Allegiance', 'Altenberg', 'MessagePad', 'A. E. van Vogt', 'Anna Kournikova', 'Alfons Maria Jakob', 'Albertosaurus', 'Assembly language', 'Ambrosia', 'Ambrose', 'Ambracia', 'Amber', 'Amalaric', 'Alphorn', 'Army', 'Alligatoridae', 'Alder', 'Amos Bronson Alcott', 'Arachnophobia', 'Alabaster', 'Ahab', 'ASIC (disambiguation)', 'Dasyproctidae', 'Algol', 'Amazing Grace', 'Array data structure', 'Advance Australia Fair', 'Automatic number announcement circuit', 'Amerigo Vespucci', 'Aristide Maillol', 'Antonio Canova', 'Auguste Rodin', 'Ann Arbor, Michigan', 'Act of Settlement 1701', 'Aircraft hijacking', 'Acropolis of Athens', 'Adam Weishaupt', 'Acorn Electron', 'A Fire Upon the Deep', 'Aeronautics', 'Abadan, Iran', 'Attorney', 'Alexander Fleming', 'Andrew Carnegie', 'Approximant consonant', 'Astronomer Royal', 'Aeon', 'Airline', 'Australian Democrats', 'Australian Capital Territory', 'Unit of alcohol', 'Aotus', 'Ally McBeal', 'Andreas Capellanus', 'Andrew Jackson', 'Andrew Johnson', 'Aleksandr Solzhenitsyn', 'American cuisine', 'Ahmad Shah Massoud', 'Atlantis', 'Autobiography', 'Arcadius', 'Alemanni', 'NYSE American', 'August 17', 'August 12', 'Alfred Russel Wallace', 'Australian Labor Party', 'August 18', 'August 19', 'August 21', \"Dodo (Alice's Adventures in Wonderland)\", 'Lory (disambiguation)', 'Albert', 'Albert I', 'Albert II', 'Albert III', 'Albert Alcibiades, Margrave of Brandenburg-Kulmbach', 'Albert the Bear', 'Albert of Brandenburg', 'Albert, Duke of Prussia', 'August 25', 'Aachen', 'Agate', 'Aspirin', 'Abner', 'Alphabet', 'Atomic number', 'Anatomy', 'Affirming the consequent', 'Andrei Tarkovsky', 'Ambiguity', 'Animal (disambiguation)', 'Aardvark', 'Aardwolf', 'Adobe', 'Adventure', 'Asia', 'Aruba', 'Art', 'Agnostida', 'Abortion', 'Abstract (law)', 'American Revolutionary War', 'Ampere', 'Algorithm', 'Annual plant', 'Anthophyta', 'Atlas (disambiguation)', 'Aurangzeb', 'Alexandrine', 'Analog computer', 'Audio', 'Minute and second of arc', 'Alberto Giacometti', 'Anthem', 'Albrecht Altdorfer', 'House of Ascania', 'Acceleration', 'Conservation and restoration of cultural heritage', 'Anton Chekhov', 'Action Against Hunger', 'AW', 'Apoptosis', 'Appomattox', 'Atomic theory', 'Ai', 'Aung San Suu Kyi', 'Abraham Joshua Heschel', 'Aberdeen Bestiary', 'Latin American Integration Association', 'Aircraft spotting', 'Advertising', 'AI-complete', 'Archaeoastronomy', 'Andrzej Sapkowski', 'Ammeter', 'Amanda Hesser', 'Anxiolytic', 'Antipsychotic', 'Akita', 'Archduke Charles, Duke of Teschen', 'Augustine of Canterbury', 'Alexander of Hales', 'Active Server Pages', 'Amoxicillin', 'Amorphous solid', 'A Wizard of Earthsea', 'Alex Lifeson', 'AZ', 'ArgoUML', 'File archiver', 'Artemis', 'Arbeit macht frei', 'Axayacatl', 'Ahuitzotl', 'Albinism in humans', 'Amr Diab', 'Belgian hip hop', 'Dutch hip hop', 'Anaïs Nin', 'AIM (software)', 'Ackermann function', 'Arlo Guthrie', 'Book of Alma', 'Antioxidant', 'Brass', 'Bonn', 'Ballroom dance', 'The Birth of a Nation', 'Baltic Sea', 'Brackish water', 'The Bronx', 'BearShare', 'Auschwitz concentration camp', 'Archery', 'Alvar Aalto', 'Comparison of American and British English', 'Atomic semantics', 'Antarctic Circumpolar Current', 'Arbor Day', 'A. J. Ayer', 'André Weil', 'Achaeans (Homer)', 'Atle Selberg', 'Alexis Korner', 'Assault gun', 'Tank destroyer', 'Armored car (military)', 'Self-propelled anti-aircraft weapon', 'AZ Alkmaar', 'Adrenal gland', 'American Media, Inc.', 'Aramaic language', 'Saint Titus', 'Actinide', 'Arthur Miller', 'Anton Diabelli', 'Anita Hill', 'August 10', 'Audio file format', 'Antipope Victor IV', 'Alternative medicine', 'Archimedean solid', 'Antiprism', 'Natural history of Africa', 'Geography of Africa', 'Approval voting', 'Arizona State University', 'April 14', 'Astoria, Oregon', 'Alarums and Excursions', 'Alfred Jarry', 'Amalric', 'Amalric of Jerusalem', 'Aimery of Cyprus', 'Anthemius of Tralles', 'Absalon', 'Aberdeen', 'August 23', 'August 24', 'Antipope', 'Aquaculture', 'Kolmogorov complexity', 'Hymn to Proserpine', 'The Triumph of Time', 'April 28', 'Alfred the Great', 'Alessandro Algardi', 'Alger of Liège', 'Algiers', 'Ibn al-Haytham', 'Alessandro Allori', 'Aberdare', 'Aberration', 'Aberration of light', 'Optical aberration', 'Amy Grant', 'Arthur William à Beckett', 'Aberdeen, South Dakota', 'Au', 'Aberdour', 'Aberfoyle, Stirling', 'Abergavenny', 'Abersychan', 'Abertillery', 'Abettor', 'Abeyance', 'Anders Celsius', 'Adam Carolla', 'Autocorrelation', 'Atlas Autocode', 'Arthur J. Stone', 'Au file format', 'April 25', 'April 24', 'April 7', 'Anime', 'Asterism', 'Ankara', 'Arabic', 'Alfred Hitchcock', 'Anaconda', 'Altaic languages', 'Austrian German', 'Antarctic', 'Albanians', 'Association for Computing Machinery', 'Anabaptism', 'ANS', 'Southeast Alaska', 'Algemeen Nijmeegs Studentenblad', 'Interior Alaska', 'And did those feet in ancient time', 'The Bush (Alaska)', 'A Little Night Music', 'Dual wield', 'Ariel Sharon', 'Romantic orientation', 'Anoa', 'Agner Krarup Erlang', 'Anyone Can Whistle', 'Alcopop', 'Alkali', \"Ain't I a Woman? (book)\", 'AMOS (programming language)', 'Arcadia 2001', 'Augustin-Jean Fresnel', 'Abbot', 'Ardipithecus', 'Assembly line', 'Adelaide', 'Alan Garner', 'August 2', 'Atlantic (disambiguation)', 'Algebraic number', 'Automorphism', 'Mouthwash', 'Alexander the Great', 'Alfred Korzybski', 'Asteroids (video game)', 'Asparagales', 'Alismatales', 'Apiales', 'Asterales', 'Asteroid', 'Allocution', 'Affidavit', 'Aries (constellation)', 'Aquarius (constellation)', 'American Civil Liberties Union', 'Adobe Inc.', 'Alexander Technique', 'Andrea Alciato', 'Apparent magnitude', 'Absolute magnitude', 'Apollo 1', 'Apollo 10', 'Apollo 12', 'Apollo 14', 'Alexandria', 'Alexandria, Indiana', 'Alexandria, Louisiana', 'Alexandria Troas', 'Alexandria, West Dunbartonshire', 'Alexandria, Romania', 'Angela Vincent', 'Arithmetic–geometric mean', 'Akira Toriyama', 'Epsilon Ursae Majoris', 'Amiga 500', 'Aga', 'Amiga 1000', 'Asymptote', 'Andrew S. Tanenbaum', 'Ariane 5', 'Arianespace', 'Amiga 500 Plus', 'Accumulator (computing)', 'Abu Zubaydah', 'Arithmetic', 'Andersonville, Georgia', 'Andersonville', 'Agra Canal', 'Amakusa', 'Afterglow', 'Ammonius Grammaticus', 'Abraham Lincoln', 'Aristotle', 'An American in Paris', 'Academy Award for Best Production Design', 'Academy Awards', 'Actrius', 'Animalia (book)', 'International Atomic Time', 'Altruism', 'A.S. Roma', 'Abu Nidal Organization', 'Antibody', 'Alessandro Scarlatti', 'Aston Martin', 'Albert Pike', 'ALF Tales', 'Abdul Rashid Dostum', 'Andhra Pradesh', 'Accelerated Graphics Port', 'Andreas Aagesen', 'Adalbert of Prague', 'Ælfheah of Canterbury', 'Associative algebra', 'Axiom of regularity', 'IBM AIX', 'AppleTalk', 'Apple II series', 'Apple III', 'AVL tree', 'Aliphatic compound', 'Astrology', 'Abyssinia', 'Algebraic extension', 'Ani DiFranco', 'Arene (disambiguation)', 'Arizona Diamondbacks', 'Aesthetics', 'Andalusia', 'Abhorrers', 'Abiathar', 'Abigail', 'Abila', 'Azad Kashmir', 'Arabian Sea', 'Aspartame', 'AutoCAD', 'AutoCAD DXF', 'Asexual reproduction', 'Aelbert Cuyp', 'Alkene', 'Allene', 'Alkyne', 'AbiWord', 'Ames test', 'Advanced Micro Devices', 'Albrecht Dürer', 'Australian rules football', 'Aon (company)', 'Alban Berg', 'Analytical chemistry', 'A cappella', 'Arrangement', 'Athanasian Creed', 'Alicante', 'August 4', 'Albrecht Achilles', 'Ann Widdecombe', 'Antisemitism', 'Economy of Azerbaijan', 'Geography of Azerbaijan', 'Foreign relations of Azerbaijan', 'Azerbaijani Armed Forces', 'Geography of Armenia', 'Demographics of Armenia', 'Politics of Armenia', 'Economy of Armenia', 'Transport in Armenia', 'Baruch Spinoza', 'Being', 'Bird', '...Baby One More Time (album)', 'Burn card', 'Bulgaria', 'Area', 'Astronomical unit', 'Artist', 'Actaeon', 'Anglicanism', 'Athens', 'Anguilla', 'Telecommunications in Anguilla', 'Ashmore and Cartier Islands', 'Acoustic theory', 'Alexander Mackenzie (politician)', \"Sid Meier's Alpha Centauri\", 'Abu Sayyaf', 'Armenian language', 'Additive synthesis', 'Aircraft carrier', 'Apicomplexa', 'Argentine cuisine', 'April 8', 'Ad hominem', 'Analysis of algorithms', 'Ælle of Sussex', 'Atari', 'Afghan', 'Acadia University', 'Armoured fighting vehicle', 'Anton Drexler', 'All Quiet on the Western Front', 'African Americans', 'Artistic License', 'Afrikaans', 'Aeolus', 'ABC', 'Alford plea', 'ABCD', 'Anti-realism', 'Arsenal F.C.', 'Agent Orange', 'Astronomical year numbering', 'Adam of Bremen', 'Ab urbe condita', 'Arapaoa Island', 'Administrative law', 'Arthur Phillip', 'April 10', 'Angus, Scotland', 'André the Giant', 'Adrastea (moon)', 'Amalthea', 'Ananke (disambiguation)', 'Apache HTTP Server', 'Alph', 'Arbroath Abbey', 'Accounting', 'Ant', 'Arbitration in the United States', 'Adversarial system', 'Arabs', 'Armadillo', 'Antisemitism in the Arab world', 'August 11', 'Arcology', 'April 5', 'April 20', 'April 19', 'Amstrad CPC', 'Abdulaziz al-Omari', 'Aage Bohr', 'Analytic geometry', 'Arabic alphabet', 'Angels in art', 'Arctic fox', 'Anglo-Saxon (disambiguation)', 'Folklore of the United States', 'Albania', 'Allah', 'Algorithms (journal)', 'Azerbaijan', 'Amateur astronomy', 'Aikido', 'Adam Smith', 'Antoine Lavoisier', 'Hermann Kolbe', 'April 18', 'April 23', 'Amitabh Bachchan', 'Allomorph', 'Allophone', 'Affix', 'Allegory', 'Allotropy', 'Agathocles of Syracuse', 'Economy of Alberta', 'Augustin-Louis Cauchy', 'Archimedes']\n",
      "['', '', '']\n"
     ]
    }
   ],
   "source": [
    "import os\n",
    "\n",
    "# read the file containing all articles saved in this folder\n",
    "file = open(os.getcwd()+\"/AA.txt\",  'r', encoding=\"utf-8\")\n",
    "text = file.read().strip()\n",
    "file.close()\n",
    "#print(text)\n",
    "\n",
    "import re\n",
    "\n",
    "dataset = []\n",
    "# iterate through all the articles and get the id, url, name and text from all the articles\n",
    "\n",
    "# use simple regular expressions to retrieve the article id, url, title and body.\n",
    "article_id = re.findall('<doc id=\"(.*)\" url', text)\n",
    "article_url = re.findall(' url=\"(.*)\" title', text)\n",
    "article_title = re.findall(' title=\"(.*)\">', text)\n",
    "\n",
    "article_body =[]\n",
    "text = re.sub(\"\\n\",\" \",text)\n",
    "text = re.sub(\" +\",\" \",text)\n",
    "text = re.sub(\"\\'\",\"'\",text) # issue created by previous substitutions\n",
    "for title in article_title[:250]: # we can only use 250 articles else we run out of memory\n",
    "    regex = title+'\"> '+title+'(.*) </doc>'\n",
    "    body = re.findall(regex, text)\n",
    "    article_body.append(body)\n",
    "for a in range(len(article_body)):\n",
    "    try:\n",
    "        article_body[a] = article_body[a[0]].split('</doc>', 1)[0] # cut off at right ending\n",
    "    except: \n",
    "        article_body[a] ='' # empty article\n",
    "    \n",
    "print(len(article_id),len(article_url),len(article_title),len(article_body))\n",
    "print(article_id[:10])\n",
    "print(article_url[:3])\n",
    "print(article_title)\n",
    "print(article_body[:3])\n",
    "\n",
    "# create 4-tuple with meta-info per article\n",
    "for j in range(len(article_body)):\n",
    "    dataset.append((article_id[j],article_url[j],article_title[j],article_body[j]))     \n",
    "        \n",
    "N = len(dataset)"
   ]
  },
  {
   "cell_type": "markdown",
   "metadata": {},
   "source": [
    "## Clean data"
   ]
  },
  {
   "cell_type": "code",
   "execution_count": 8,
   "metadata": {},
   "outputs": [],
   "source": [
    "import numpy as np\n",
    "\n",
    "def convert_lower_case(data):\n",
    "    return np.char.lower(data)\n",
    "\n",
    "from nltk.corpus import stopwords\n",
    "from nltk import word_tokenize\n",
    "#nltk.download('stopwords')\n",
    "\n",
    "def remove_stop_words(data):\n",
    "    stop_words = stopwords.words('english')\n",
    "    words = word_tokenize(str(data))\n",
    "    # iterate over all the stop words and not append to the list if it’s a stop word\n",
    "    new_text = \"\"\n",
    "    for word in words:\n",
    "        if word not in stop_words and len(word) > 1: # remove stop words and single characters\n",
    "            new_text = new_text + \" \" + word\n",
    "    return new_text\n",
    "\n",
    "def remove_punctuation(data):\n",
    "    symbols = \"!\\\"#$%&()*+-./:;<=>?@[\\]^_`{|}~\\n\"\n",
    "    for i in range(len(symbols)):\n",
    "        data = np.char.replace(data, symbols[i], ' ') # remove every occurence of this symbol\n",
    "        data = np.char.replace(data, \"  \", \" \") # remove extra spaces\n",
    "    data = np.char.replace(data, ',', '') #remove comma seperately?\n",
    "    return data\n",
    "\n",
    "def remove_apostrophe(data):\n",
    "    return np.char.replace(data, \"'\", \"\") #seperate?\n",
    "\n",
    "from nltk.stem.porter import *\n",
    "from nltk.stem import PorterStemmer\n",
    "\n",
    "def stemming(data): # reduce words to its stem\n",
    "    stemmer= PorterStemmer() # rule-based stemmer, identifies and removes the suffix or affix of a word\n",
    "    \n",
    "    tokens = word_tokenize(str(data))\n",
    "    new_text = \"\"\n",
    "    for w in tokens:\n",
    "        new_text = new_text + \" \" + stemmer.stem(w)\n",
    "    return new_text\n",
    "# A better efficient way is to first lemmatise and then stem\n",
    "\n",
    "import num2words\n",
    "\n",
    "def convert_numbers(data):\n",
    "    tokens = word_tokenize(str(data))\n",
    "    new_text = \"\"\n",
    "    for w in tokens:\n",
    "        try:\n",
    "            w = num2words(int(w),lang='en')\n",
    "        except:\n",
    "            a = 0\n",
    "        new_text = new_text + \" \" + w\n",
    "    new_text = np.char.replace(new_text, \"-\", \" \")\n",
    "    return new_text"
   ]
  },
  {
   "cell_type": "code",
   "execution_count": 9,
   "metadata": {},
   "outputs": [],
   "source": [
    "def preprocess(data):\n",
    "    data = convert_lower_case(data)\n",
    "    data = remove_punctuation(data) #remove comma seperately\n",
    "    data = remove_apostrophe(data)\n",
    "    data = remove_stop_words(data)\n",
    "    data = convert_numbers(data)\n",
    "    #data = stemming(data)\n",
    "    data = remove_punctuation(data)\n",
    "    data = convert_numbers(data)\n",
    "    #data = stemming(data) #needed again as we need to stem the words\n",
    "    data = remove_punctuation(data) #needed again as num2word is giving few hypens and commas fourty-one\n",
    "    data = remove_stop_words(data) #needed again as num2word is giving stop words 101 - one hundred and one\n",
    "    return data"
   ]
  },
  {
   "cell_type": "code",
   "execution_count": 10,
   "metadata": {},
   "outputs": [],
   "source": [
    "processed_text = []\n",
    "processed_title = []\n",
    "for i in dataset:\n",
    "    processed_text.append(word_tokenize(str(preprocess(i[3]))))\n",
    "    processed_title.append(word_tokenize(str(preprocess(i[2]))))"
   ]
  },
  {
   "cell_type": "markdown",
   "metadata": {},
   "source": [
    "## Build model"
   ]
  },
  {
   "cell_type": "code",
   "execution_count": 11,
   "metadata": {},
   "outputs": [],
   "source": [
    "DF = {}\n",
    "# iterate through all the words in all the documents and store the document id’s for each word.\n",
    "for i in range(N):\n",
    "    tokens = processed_text[i] # body of the document\n",
    "    for w in tokens:\n",
    "        try:\n",
    "            DF[w].add(i)\n",
    "        except:\n",
    "            DF[w] = {i}\n",
    "\n",
    "    tokens = processed_title[i]\n",
    "    for w in tokens:\n",
    "        try:\n",
    "            DF[w].add(i)\n",
    "        except:\n",
    "            DF[w] = {i}\n",
    "            \n",
    "for i in DF:\n",
    "    DF[i] = len(DF[i]) # unique words, we don’t actually need the list of docs, we just need the count\n",
    "\n",
    "total_vocab_size = len(DF)\n",
    "total_vocab = [x for x in DF]\n",
    "\n",
    "#getter\n",
    "def doc_freq(word):\n",
    "    try:\n",
    "        return DF[word]\n",
    "    except:\n",
    "        return 0"
   ]
  },
  {
   "cell_type": "code",
   "execution_count": 12,
   "metadata": {},
   "outputs": [],
   "source": [
    "# let’s use dictionary with (document, token) pair as key and any TF-IDF score as the value\n",
    "# tf_idf dictionary is for body, we will use the same logic for to build a dictionary tf_idf_title for the words in title.\n",
    "from collections import Counter\n",
    "\n",
    "# Calculate TF-IDF for Body for all docs\n",
    "doc = 0\n",
    "tf_idf = {}\n",
    "#iterate over all documents\n",
    "for i in range(N):  \n",
    "    tokens = processed_text[i]\n",
    "    counter = Counter(tokens + processed_title[i])  \n",
    "    words_count = len(tokens + processed_title[i])\n",
    "    # Counter can give us the frequency of the tokens, calculate tf and idf and finally store as a (doc, token) pair in tf_idf.\n",
    "    for token in np.unique(tokens):      \n",
    "        tf = counter[token]/words_count\n",
    "        df = doc_freq(token)\n",
    "        idf = np.log((N+1)/(df+1)) #numerator is added 1 to avoid negative values\n",
    "        tf_idf[doc, token] = tf*idf\n",
    "    doc += 1\n",
    "\n",
    "# Calculate TF-IDF for title for all docs   \n",
    "doc = 0\n",
    "tf_idf_title = {}\n",
    "for i in range(N):\n",
    "    tokens = processed_title[i]\n",
    "    counter = Counter(tokens + processed_text[i])\n",
    "    words_count = len(tokens + processed_text[i])\n",
    "    for token in np.unique(tokens):\n",
    "        tf = counter[token]/words_count\n",
    "        df = doc_freq(token)\n",
    "        idf = np.log((N+1)/(df+1)) #numerator is added 1 to avoid negative values\n",
    "        tf_idf_title[doc, token] = tf*idf\n",
    "    doc += 1"
   ]
  },
  {
   "cell_type": "code",
   "execution_count": 13,
   "metadata": {},
   "outputs": [],
   "source": [
    "alpha = 0.3\n",
    "# Merging the TF-IDF according to weights\n",
    "# multiply the Body TF-IDF with alpha\n",
    "for i in tf_idf:\n",
    "    tf_idf[i] *= alpha\n",
    "# Iterate Title IF-IDF for every (doc, token)\n",
    "# if token is in body, replace the Body(doc, token) value with the value in Title(doc, token)\n",
    "for i in tf_idf_title:\n",
    "    tf_idf[i] = tf_idf_title[i]"
   ]
  },
  {
   "cell_type": "markdown",
   "metadata": {},
   "source": [
    "## Ranking"
   ]
  },
  {
   "cell_type": "code",
   "execution_count": 14,
   "metadata": {},
   "outputs": [],
   "source": [
    "# (pre)process question and print\n",
    "def query_tokenize(query):\n",
    "    preprocessed_query = preprocess(query)\n",
    "    tokens = word_tokenize(str(preprocessed_query))\n",
    "    \n",
    "    print(\"\\nQuery:\", query)\n",
    "    print(tokens)\n",
    "    print(\"\")\n",
    "    \n",
    "    return tokens"
   ]
  },
  {
   "cell_type": "markdown",
   "metadata": {},
   "source": [
    "#### option 1:"
   ]
  },
  {
   "cell_type": "code",
   "execution_count": 15,
   "metadata": {},
   "outputs": [],
   "source": [
    "# theoretical concept: add tf_idf values of the tokens that are in query for every document.\n",
    "# Iterate over all values in the dictionary and check if the value is present in the token.\n",
    "# As our dictionary is a (document, token) key, when we find a token which is in query we will\n",
    "# add the document id to another dictionary along with the tf-idf value\n",
    "def matching_score(k, query):\n",
    "    print(\">>Matching score\")\n",
    "    \n",
    "    tokens = query_tokenize(query)\n",
    "    \n",
    "    query_weights = {}\n",
    "    for key in tf_idf:  \n",
    "        if key[1] in tokens:\n",
    "            try:\n",
    "                query_weights[key[0]] += tf_idf[key]\n",
    "            except:\n",
    "                query_weights[key[0]] = tf_idf[key]\n",
    "    \n",
    "    # return the top k articles\n",
    "    query_weights = sorted(query_weights.items(), key=lambda x: x[1], reverse=True) # sort by score/relevance\n",
    "    ranking =[]\n",
    "    print(\"Most related articles:\")\n",
    "    for i in query_weights[:k]: # i[0] is index of article in dataset\n",
    "        print(dataset[i[0]][0], dataset[i[0]][2], i[1]) # print article_id, article_title and score\n",
    "        ranking.append(dataset[i[0]][2]) # article_title\n",
    "    return ranking"
   ]
  },
  {
   "cell_type": "markdown",
   "metadata": {},
   "source": [
    "#### option 2:"
   ]
  },
  {
   "cell_type": "code",
   "execution_count": 16,
   "metadata": {},
   "outputs": [],
   "source": [
    "import math\n",
    "\n",
    "# vectorize documents\n",
    "D = np.zeros((N, total_vocab_size))\n",
    "for i in tf_idf:\n",
    "    try:\n",
    "        ind = total_vocab.index(i[1]) # generate a index for each token\n",
    "        D[i[0]][ind] = tf_idf[i] # document vectors\n",
    "    except:\n",
    "        pass\n",
    "\n",
    "# vectorize query\n",
    "def query_vectorize(tokens):\n",
    "    Q = np.zeros((len(total_vocab)))\n",
    "    counter = Counter(tokens)\n",
    "    words_count = len(tokens)\n",
    "    query_weights = {}\n",
    "    for token in np.unique(tokens):\n",
    "        tf = counter[token]/words_count\n",
    "        df = doc_freq(token)\n",
    "        idf = math.log((N+1)/(df+1))\n",
    "        try:\n",
    "            ind = total_vocab.index(token)\n",
    "            Q[ind] = tf*idf\n",
    "        except:\n",
    "            pass\n",
    "    return Q"
   ]
  },
  {
   "cell_type": "code",
   "execution_count": 22,
   "metadata": {},
   "outputs": [],
   "source": [
    "def cosine_similarity(k, query):\n",
    "    print(\">>Cosine Similarity\")\n",
    "    \n",
    "    tokens = query_tokenize(query)\n",
    "    \n",
    "    query_vector = query_vectorize(tokens)\n",
    "    \n",
    "    # measure similarity\n",
    "    d_cosines = []\n",
    "    for d in D:\n",
    "        similarity = np.dot(query_vector, d)/(np.linalg.norm(query_vector)*np.linalg.norm(d))\n",
    "        if math.isnan(similarity):\n",
    "            d_cosines.append(0.0)\n",
    "        else:\n",
    "            d_cosines.append(similarity)\n",
    "\n",
    "    # return the top k articles\n",
    "    ranking = np.array(d_cosines).argsort()[-k:][::-1].tolist() \n",
    "    \n",
    "    print(\"Most related articles:\")\n",
    "    for i in ranking:\n",
    "        print(dataset[i][0], dataset[i][2], d_cosines[i]) # print article_id, article_title and score\n",
    "    return [dataset[i][2] for i in ranking]"
   ]
  },
  {
   "cell_type": "markdown",
   "metadata": {},
   "source": [
    "## Test"
   ]
  },
  {
   "cell_type": "code",
   "execution_count": 45,
   "metadata": {},
   "outputs": [
    {
     "name": "stdout",
     "output_type": "stream",
     "text": [
      "10\n",
      "['What is anarchism?', 'What does ASD stand for?', 'From what age is Autism diagnosable?', 'Is there a cure for Autism?', 'Can Autism be treated?', 'Where is Achilles famous for?', 'What is the difference between antisymmetry and asymmetry?', 'What are the green stones from the Amazon River called?', 'What is the largest river in the world?', \"What is the translation of 'acropolis'\"]\n",
      "['Anarchism', 'Autism', 'Autism', 'Autism', 'Autism', 'Achilles', 'Antisymmetric relation', 'Amazonite', 'Amazon River', 'Acropolis']\n"
     ]
    }
   ],
   "source": [
    "# create tuples of test cases (question, correct article)\n",
    "questions = [(\"What is anarchism?\",\"Anarchism\"),(\"What does ASD stand for?\",\"Autism\"),(\"From what age is Autism diagnosable?\",\"Autism\"),(\"Is there a cure for Autism?\",\"Autism\"),(\"Can Autism be treated?\",\"Autism\"),(\"Where is Achilles famous for?\",\"Achilles\"),(\"What is the difference between antisymmetry and asymmetry?\",\"Antisymmetric relation\"),(\"What are the green stones from the Amazon River called?\",\"Amazonite\"),(\"What is the largest river in the world?\",\"Amazon River\"),(\"What is the translation of 'acropolis'\",\"Acropolis\")]\n",
    "print(len(questions))\n",
    "X = [pair[0] for pair in questions]\n",
    "print(X)\n",
    "y = [pair[1] for pair in questions]\n",
    "print(y)"
   ]
  },
  {
   "cell_type": "code",
   "execution_count": 46,
   "metadata": {},
   "outputs": [
    {
     "name": "stdout",
     "output_type": "stream",
     "text": [
      ">>Matching score\n",
      "\n",
      "Query: What is anarchism?\n",
      "['anarchism']\n",
      "\n",
      "Most related articles:\n",
      "12 Anarchism 4.832305758571839\n",
      ">>Cosine Similarity\n",
      "\n",
      "Query: What is anarchism?\n",
      "['anarchism']\n",
      "\n",
      "Most related articles:\n",
      "12 Anarchism 1.0\n",
      "2487 Amazonite 0.0\n",
      "2607 Antoine Thomson d'Abbadie 0.0\n",
      "2624 Aegean civilization 0.0\n",
      "2623 Aegadian Islands 0.0\n",
      "2622 Aedui 0.0\n",
      "2621 Aedicula 0.0\n",
      "2620 Aedesius 0.0\n",
      "2619 Aeclanum 0.0\n",
      "2618 Aeacus 0.0\n",
      ">>Matching score\n",
      "\n",
      "Query: What does ASD stand for?\n",
      "['asd', 'stand']\n",
      "\n",
      "Most related articles:\n",
      ">>Cosine Similarity\n",
      "\n",
      "Query: What does ASD stand for?\n",
      "['asd', 'stand']\n",
      "\n",
      "Most related articles:\n",
      "2487 Amazonite 0.0\n",
      "2607 Antoine Thomson d'Abbadie 0.0\n",
      "2626 Aegeus 0.0\n",
      "2624 Aegean civilization 0.0\n",
      "2623 Aegadian Islands 0.0\n",
      "2622 Aedui 0.0\n",
      "2621 Aedicula 0.0\n",
      "2620 Aedesius 0.0\n",
      "2619 Aeclanum 0.0\n",
      "2618 Aeacus 0.0\n",
      ">>Matching score\n",
      "\n",
      "Query: From what age is Autism diagnosable?\n",
      "['age', 'autism', 'diagnosable']\n",
      "\n",
      "Most related articles:\n",
      "25 Autism 4.832305758571839\n",
      ">>Cosine Similarity\n",
      "\n",
      "Query: From what age is Autism diagnosable?\n",
      "['age', 'autism', 'diagnosable']\n",
      "\n",
      "Most related articles:\n",
      "25 Autism 1.0\n",
      "2487 Amazonite 0.0\n",
      "2624 Aegean civilization 0.0\n",
      "2623 Aegadian Islands 0.0\n",
      "2622 Aedui 0.0\n",
      "2621 Aedicula 0.0\n",
      "2620 Aedesius 0.0\n",
      "2619 Aeclanum 0.0\n",
      "2618 Aeacus 0.0\n",
      "2616 Adware 0.0\n",
      ">>Matching score\n",
      "\n",
      "Query: Is there a cure for Autism?\n",
      "['cure', 'autism']\n",
      "\n",
      "Most related articles:\n",
      "25 Autism 4.832305758571839\n",
      ">>Cosine Similarity\n",
      "\n",
      "Query: Is there a cure for Autism?\n",
      "['cure', 'autism']\n",
      "\n",
      "Most related articles:\n",
      "25 Autism 1.0\n",
      "2487 Amazonite 0.0\n",
      "2624 Aegean civilization 0.0\n",
      "2623 Aegadian Islands 0.0\n",
      "2622 Aedui 0.0\n",
      "2621 Aedicula 0.0\n",
      "2620 Aedesius 0.0\n",
      "2619 Aeclanum 0.0\n",
      "2618 Aeacus 0.0\n",
      "2616 Adware 0.0\n",
      ">>Matching score\n",
      "\n",
      "Query: Can Autism be treated?\n",
      "['autism', 'treated']\n",
      "\n",
      "Most related articles:\n",
      "25 Autism 4.832305758571839\n",
      ">>Cosine Similarity\n",
      "\n",
      "Query: Can Autism be treated?\n",
      "['autism', 'treated']\n",
      "\n",
      "Most related articles:\n",
      "25 Autism 1.0\n",
      "2487 Amazonite 0.0\n",
      "2624 Aegean civilization 0.0\n",
      "2623 Aegadian Islands 0.0\n",
      "2622 Aedui 0.0\n",
      "2621 Aedicula 0.0\n",
      "2620 Aedesius 0.0\n",
      "2619 Aeclanum 0.0\n",
      "2618 Aeacus 0.0\n",
      "2616 Adware 0.0\n",
      ">>Matching score\n",
      "\n",
      "Query: Where is Achilles famous for?\n",
      "['achilles', 'famous']\n",
      "\n",
      "Most related articles:\n",
      "305 Achilles 4.832305758571839\n",
      ">>Cosine Similarity\n",
      "\n",
      "Query: Where is Achilles famous for?\n",
      "['achilles', 'famous']\n",
      "\n",
      "Most related articles:\n",
      "305 Achilles 1.0\n",
      "2487 Amazonite 0.0\n",
      "2606 Abatis 0.0\n",
      "2624 Aegean civilization 0.0\n",
      "2623 Aegadian Islands 0.0\n",
      "2622 Aedui 0.0\n",
      "2621 Aedicula 0.0\n",
      "2620 Aedesius 0.0\n",
      "2619 Aeclanum 0.0\n",
      "2618 Aeacus 0.0\n",
      ">>Matching score\n",
      "\n",
      "Query: What is the difference between antisymmetry and asymmetry?\n",
      "['difference', 'antisymmetry', 'asymmetry']\n",
      "\n",
      "Most related articles:\n",
      ">>Cosine Similarity\n",
      "\n",
      "Query: What is the difference between antisymmetry and asymmetry?\n",
      "['difference', 'antisymmetry', 'asymmetry']\n",
      "\n",
      "Most related articles:\n",
      "2487 Amazonite 0.0\n",
      "2607 Antoine Thomson d'Abbadie 0.0\n",
      "2626 Aegeus 0.0\n",
      "2624 Aegean civilization 0.0\n",
      "2623 Aegadian Islands 0.0\n",
      "2622 Aedui 0.0\n",
      "2621 Aedicula 0.0\n",
      "2620 Aedesius 0.0\n",
      "2619 Aeclanum 0.0\n",
      "2618 Aeacus 0.0\n",
      ">>Matching score\n",
      "\n",
      "Query: What are the green stones from the Amazon River called?\n",
      "['green', 'stones', 'amazon', 'river', 'called']\n",
      "\n",
      "Most related articles:\n",
      "1701 Amazon River 4.629573204517756\n",
      "1362 Anadyr River 2.213420325231837\n",
      ">>Cosine Similarity\n",
      "\n",
      "Query: What are the green stones from the Amazon River called?\n",
      "['green', 'stones', 'amazon', 'river', 'called']\n",
      "\n",
      "Most related articles:\n",
      "1701 Amazon River 1.0\n",
      "1362 Anadyr River 0.45629304842126417\n",
      "2606 Abatis 0.0\n",
      "2624 Aegean civilization 0.0\n",
      "2623 Aegadian Islands 0.0\n",
      "2622 Aedui 0.0\n",
      "2621 Aedicula 0.0\n",
      "2620 Aedesius 0.0\n",
      "2619 Aeclanum 0.0\n",
      "2618 Aeacus 0.0\n",
      ">>Matching score\n",
      "\n",
      "Query: What is the largest river in the world?\n",
      "['largest', 'river', 'world']\n",
      "\n",
      "Most related articles:\n",
      "1701 Amazon River 2.213420325231837\n",
      "1362 Anadyr River 2.213420325231837\n",
      ">>Cosine Similarity\n",
      "\n",
      "Query: What is the largest river in the world?\n",
      "['largest', 'river', 'world']\n",
      "\n",
      "Most related articles:\n",
      "1701 Amazon River 0.6754946694247588\n",
      "1362 Anadyr River 0.6754946694247588\n",
      "2606 Abatis 0.0\n",
      "2624 Aegean civilization 0.0\n",
      "2623 Aegadian Islands 0.0\n",
      "2622 Aedui 0.0\n",
      "2621 Aedicula 0.0\n",
      "2620 Aedesius 0.0\n",
      "2619 Aeclanum 0.0\n",
      "2618 Aeacus 0.0\n",
      ">>Matching score\n",
      "\n",
      "Query: What is the translation of 'acropolis'\n",
      "['translation', 'acropolis']\n",
      "\n",
      "Most related articles:\n",
      ">>Cosine Similarity\n",
      "\n",
      "Query: What is the translation of 'acropolis'\n",
      "['translation', 'acropolis']\n",
      "\n",
      "Most related articles:\n",
      "2487 Amazonite 0.0\n",
      "2607 Antoine Thomson d'Abbadie 0.0\n",
      "2626 Aegeus 0.0\n",
      "2624 Aegean civilization 0.0\n",
      "2623 Aegadian Islands 0.0\n",
      "2622 Aedui 0.0\n",
      "2621 Aedicula 0.0\n",
      "2620 Aedesius 0.0\n",
      "2619 Aeclanum 0.0\n",
      "2618 Aeacus 0.0\n"
     ]
    },
    {
     "name": "stderr",
     "output_type": "stream",
     "text": [
      "C:\\Program Files (x86)\\Microsoft Visual Studio\\Shared\\Anaconda3_64\\lib\\site-packages\\ipykernel_launcher.py:11: RuntimeWarning: invalid value encountered in double_scalars\n",
      "  # This is added back by InteractiveShellApp.init_path()\n"
     ]
    }
   ],
   "source": [
    "rankings_ms =[]\n",
    "rankings_cs =[]\n",
    "for question in X: # retrieve 10 most related articles\n",
    "    ranking_ms = matching_score(10,question)\n",
    "    rankings_ms.append(ranking_ms)\n",
    "    ranking_cs = cosine_similarity(10,question)\n",
    "    rankings_cs.append(ranking_cs)"
   ]
  },
  {
   "cell_type": "markdown",
   "metadata": {},
   "source": [
    "The cosine similarity always spits out 10 articles. When all similarity scores are 0.0, the list seems partially random, apart from the fact that it is every time the same articles in the same order. The \"most related\" article, Amazonite, is namely neither the longest nor the shortest article; the same holds for the other articles in the list. Furthermore Amazonite is somewhere in the middle of the corpus, and not followed by any of the other articles from the ranking. However, the remaining 9 titles are subsequent in the dataset, as expected from the id's.\n",
    "\n",
    "The matching score only outputs one or more articles if it is sufficiently confident that it is relevant."
   ]
  },
  {
   "cell_type": "code",
   "execution_count": 40,
   "metadata": {},
   "outputs": [],
   "source": [
    "def score(y_correct,y_predicted):\n",
    "    correct = 0\n",
    "    score = 0\n",
    "    for i in range(len(y_correct)): # test case i\n",
    "        if y_correct[i] in y_predicted[i]: # in top 10\n",
    "            correct+=1\n",
    "            score+=y_predicted[i].index(y_correct[i]) # the lower the index the higher ranked\n",
    "        else:\n",
    "            score +=11 # at least not in top 10\n",
    "    print(\"Correctly retrieved:\", correct, \"out of\", len(y_correct), \". Minimized score:\", score)       "
   ]
  },
  {
   "cell_type": "code",
   "execution_count": 48,
   "metadata": {},
   "outputs": [
    {
     "name": "stdout",
     "output_type": "stream",
     "text": [
      "Matching score performance:\n",
      "Correctly retrieved: 6 out of 10 . Minimized score: 44\n",
      "Cosine similarity performance:\n",
      "Correctly retrieved: 6 out of 10 . Minimized score: 44\n"
     ]
    }
   ],
   "source": [
    "print(\"Matching score performance:\")\n",
    "score(y,rankings_ms)\n",
    "print(\"Cosine similarity performance:\")\n",
    "score(y,rankings_cs)"
   ]
  },
  {
   "cell_type": "markdown",
   "metadata": {},
   "source": [
    "i.e. if it retrieves the correct document, it is always retrieved as the first, best article. If it is not the first document, it will also not be lower within the top-10. This is also demonstrated by one of the cases in the next section."
   ]
  },
  {
   "cell_type": "markdown",
   "metadata": {},
   "source": [
    "### Interesting cases"
   ]
  },
  {
   "cell_type": "markdown",
   "metadata": {},
   "source": [
    "#### influence of formulation"
   ]
  },
  {
   "cell_type": "code",
   "execution_count": 19,
   "metadata": {},
   "outputs": [
    {
     "name": "stdout",
     "output_type": "stream",
     "text": [
      ">>Matching score\n",
      "\n",
      "Query: Is there a cure for Autism?\n",
      "['cure', 'autism']\n",
      "\n",
      "Most related articles:\n",
      "25 Autism 0.05116389300761864\n",
      "\n",
      ">>Cosine Similarity\n",
      "\n",
      "Query: Is there a cure for Autism?\n",
      "['cure', 'autism']\n",
      "\n",
      "Most related articles:\n",
      "25 Autism 0.696424239695315\n",
      "305 Achilles 0.0\n",
      "303 Alabama 0.0\n",
      "290 A 0.0\n",
      "39 Albedo 0.0\n",
      "12 Anarchism 0.0\n"
     ]
    }
   ],
   "source": [
    "query = \"Is there a cure for Autism?\"\n",
    "ranking_ms = matching_score(10,query)\n",
    "print(\"\")\n",
    "ranking_cs = cosine_similarity(10,query)"
   ]
  },
  {
   "cell_type": "code",
   "execution_count": 37,
   "metadata": {},
   "outputs": [
    {
     "name": "stdout",
     "output_type": "stream",
     "text": [
      ">>Matching score\n",
      "\n",
      "Query: Can Autism be treated?\n",
      "['autism', 'treated']\n",
      "\n",
      "Most related articles:\n",
      "25 Autism 4.832305758571839\n",
      "\n",
      ">>Cosine Similarity\n",
      "\n",
      "Query: Can Autism be treated?\n",
      "['autism', 'treated']\n",
      "\n",
      "Most related articles:\n",
      "25 Autism 1.0\n",
      "2487 Amazonite 0.0\n",
      "2624 Aegean civilization 0.0\n",
      "2623 Aegadian Islands 0.0\n",
      "2622 Aedui 0.0\n",
      "2621 Aedicula 0.0\n",
      "2620 Aedesius 0.0\n",
      "2619 Aeclanum 0.0\n",
      "2618 Aeacus 0.0\n",
      "2616 Adware 0.0\n"
     ]
    },
    {
     "name": "stderr",
     "output_type": "stream",
     "text": [
      "C:\\Program Files (x86)\\Microsoft Visual Studio\\Shared\\Anaconda3_64\\lib\\site-packages\\ipykernel_launcher.py:11: RuntimeWarning: invalid value encountered in double_scalars\n",
      "  # This is added back by InteractiveShellApp.init_path()\n"
     ]
    }
   ],
   "source": [
    "query = \"Can Autism be treated?\" # same question as previous one, different formulation\n",
    "ranking_ms = matching_score(10,query)\n",
    "print(\"\")\n",
    "ranking_cs = cosine_similarity(10,query)"
   ]
  },
  {
   "cell_type": "markdown",
   "metadata": {},
   "source": [
    "#### title (not) mentioned"
   ]
  },
  {
   "cell_type": "code",
   "execution_count": 41,
   "metadata": {},
   "outputs": [
    {
     "name": "stdout",
     "output_type": "stream",
     "text": [
      ">>Matching score\n",
      "\n",
      "Query: What are the green stones from the Amazon River called?\n",
      "['green', 'stones', 'amazon', 'river', 'called']\n",
      "\n",
      "Most related articles:\n",
      "1701 Amazon River 4.629573204517756\n",
      "1362 Anadyr River 2.213420325231837\n",
      "\n",
      ">>Cosine Similarity\n",
      "\n",
      "Query: What are the green stones from the Amazon River called?\n",
      "['green', 'stones', 'amazon', 'river', 'called']\n",
      "\n",
      "Most related articles:\n",
      "1701 Amazon River 1.0\n",
      "1362 Anadyr River 0.45629304842126417\n",
      "2606 Abatis 0.0\n",
      "2624 Aegean civilization 0.0\n",
      "2623 Aegadian Islands 0.0\n",
      "2622 Aedui 0.0\n",
      "2621 Aedicula 0.0\n",
      "2620 Aedesius 0.0\n",
      "2619 Aeclanum 0.0\n",
      "2618 Aeacus 0.0\n"
     ]
    },
    {
     "name": "stderr",
     "output_type": "stream",
     "text": [
      "C:\\Program Files (x86)\\Microsoft Visual Studio\\Shared\\Anaconda3_64\\lib\\site-packages\\ipykernel_launcher.py:11: RuntimeWarning: invalid value encountered in double_scalars\n",
      "  # This is added back by InteractiveShellApp.init_path()\n"
     ]
    }
   ],
   "source": [
    "query = \"What are the green stones from the Amazon River called?\"\n",
    "# mentiones an article title, but not the one from the article in which the answer is\n",
    "ranking_ms = matching_score(10,query)\n",
    "print(\"\")\n",
    "ranking_cs = cosine_similarity(10,query)"
   ]
  },
  {
   "cell_type": "code",
   "execution_count": 42,
   "metadata": {},
   "outputs": [
    {
     "name": "stdout",
     "output_type": "stream",
     "text": [
      ">>Matching score\n",
      "\n",
      "Query: What is the largest river in the world?\n",
      "['largest', 'river', 'world']\n",
      "\n",
      "Most related articles:\n",
      "1701 Amazon River 2.213420325231837\n",
      "1362 Anadyr River 2.213420325231837\n",
      "\n",
      ">>Cosine Similarity\n",
      "\n",
      "Query: What is the largest river in the world?\n",
      "['largest', 'river', 'world']\n",
      "\n",
      "Most related articles:\n",
      "1701 Amazon River 0.6754946694247588\n",
      "1362 Anadyr River 0.6754946694247588\n",
      "2606 Abatis 0.0\n",
      "2624 Aegean civilization 0.0\n",
      "2623 Aegadian Islands 0.0\n",
      "2622 Aedui 0.0\n",
      "2621 Aedicula 0.0\n",
      "2620 Aedesius 0.0\n",
      "2619 Aeclanum 0.0\n",
      "2618 Aeacus 0.0\n"
     ]
    },
    {
     "name": "stderr",
     "output_type": "stream",
     "text": [
      "C:\\Program Files (x86)\\Microsoft Visual Studio\\Shared\\Anaconda3_64\\lib\\site-packages\\ipykernel_launcher.py:11: RuntimeWarning: invalid value encountered in double_scalars\n",
      "  # This is added back by InteractiveShellApp.init_path()\n"
     ]
    }
   ],
   "source": [
    "query = \"What is the largest river in the world?\"\n",
    "# question does not have article title in it\n",
    "ranking_ms = matching_score(10,query)\n",
    "print(\"\")\n",
    "ranking_cs = cosine_similarity(10,query)"
   ]
  },
  {
   "cell_type": "code",
   "execution_count": 47,
   "metadata": {},
   "outputs": [
    {
     "name": "stdout",
     "output_type": "stream",
     "text": [
      ">>Matching score\n",
      "\n",
      "Query: What is the translation of 'acropolis'\n",
      "['translation', 'acropolis']\n",
      "\n",
      "Most related articles:\n",
      "\n",
      ">>Cosine Similarity\n",
      "\n",
      "Query: What is the translation of 'acropolis'\n",
      "['translation', 'acropolis']\n",
      "\n",
      "Most related articles:\n",
      "2487 Amazonite 0.0\n",
      "2607 Antoine Thomson d'Abbadie 0.0\n",
      "2626 Aegeus 0.0\n",
      "2624 Aegean civilization 0.0\n",
      "2623 Aegadian Islands 0.0\n",
      "2622 Aedui 0.0\n",
      "2621 Aedicula 0.0\n",
      "2620 Aedesius 0.0\n",
      "2619 Aeclanum 0.0\n",
      "2618 Aeacus 0.0\n"
     ]
    },
    {
     "name": "stderr",
     "output_type": "stream",
     "text": [
      "C:\\Program Files (x86)\\Microsoft Visual Studio\\Shared\\Anaconda3_64\\lib\\site-packages\\ipykernel_launcher.py:11: RuntimeWarning: invalid value encountered in double_scalars\n",
      "  # This is added back by InteractiveShellApp.init_path()\n"
     ]
    }
   ],
   "source": [
    "query = \"What is the translation of 'acropolis'?\"\n",
    "# question does have article title in it\n",
    "ranking_ms = matching_score(10,query)\n",
    "print(\"\")\n",
    "ranking_cs = cosine_similarity(10,query)"
   ]
  },
  {
   "cell_type": "code",
   "execution_count": null,
   "metadata": {},
   "outputs": [],
   "source": []
  }
 ],
 "metadata": {
  "kernelspec": {
   "display_name": "Python 3",
   "language": "python",
   "name": "python3"
  },
  "language_info": {
   "codemirror_mode": {
    "name": "ipython",
    "version": 3
   },
   "file_extension": ".py",
   "mimetype": "text/x-python",
   "name": "python",
   "nbconvert_exporter": "python",
   "pygments_lexer": "ipython3",
   "version": "3.6.5"
  }
 },
 "nbformat": 4,
 "nbformat_minor": 2
}
