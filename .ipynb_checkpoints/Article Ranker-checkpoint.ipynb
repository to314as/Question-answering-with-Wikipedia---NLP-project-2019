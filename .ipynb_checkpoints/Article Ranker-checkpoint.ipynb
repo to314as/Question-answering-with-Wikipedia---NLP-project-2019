{
 "cells": [
  {
   "cell_type": "markdown",
   "metadata": {},
   "source": [
    "## Load data"
   ]
  },
  {
   "cell_type": "code",
   "execution_count": 9,
   "metadata": {},
   "outputs": [
    {
     "name": "stdout",
     "output_type": "stream",
     "text": [
      "6 6 6 6\n",
      "['12', '25', '39', '290', '303', '305']\n",
      "['https://en.wikipedia.org/wiki?curid=12', 'https://en.wikipedia.org/wiki?curid=25', 'https://en.wikipedia.org/wiki?curid=39']\n",
      "['Anarchism', 'Autism', 'Albedo', 'A', 'Alabama', 'Achilles']\n",
      "[' Anarchism is an anti-authoritarian political philosophy that advocates self-governed societies based on voluntary, cooperative institutions and the rejection of hierarchies those societies view as unjust. These institutions are often described as stateless societies, although several authors have defined them more specifically as distinct institutions based on non-hierarchical or free associations. Anarchism holds the state to be undesirable, unnecessary and harmful. Anarchism is often considered a far-left ideology and much of its economics and legal philosophy reflect anti-authoritarian interpretations of communism, collectivism, syndicalism, mutualism, or participatory economics. As anarchism does not offer a fixed body of doctrine from a single particular worldview, many anarchist types and traditions exist and varieties of anarchy diverge widely. Anarchist schools of thought can differ fundamentally, supporting anything from extreme individualism to complete collectivism. Strains of anarchism have often been divided into the categories of social and individualist anarchism, or similar dual classifications. The etymological origin of anarchism derives from ancient Greek word \"anarkhia\". \"Anarkhia\" meant \"without a ruler\" as it was composed by the prefix a (i.e. \"without\") and the word \"arkhos\" (i.e. leader or ruler). The suffix -ism is used to denote the ideological current that favours anarchism. The first known use of this word was in 1642. Various factions within the French Revolution labelled opponents as anarchists although few shared many views of later anarchists. There would be many revolutionaries of the early 19th century who contributed to the anarchist doctrines of the next generation, such as William Godwin and Wilhelm Weitling, but they did not use the word anarchist or anarchism in describing themselves or their beliefs. The first political philosopher to call himself an anarchist was Pierre-Joseph Proudhon, marking the formal birth of anarchism in the mid-19th century. Since the 1890s and beginning in France, the term libertarianism has often been used as a synonym for anarchism and its use as a synonym is still common outside the United States. On the other hand, some use libertarianism to refer to individualistic free-market philosophy only, referring to free-market anarchism as libertarian anarchism. While opposition to the state is central, defining anarchism is not an easy task as there is a lot of talk among scholars and anarchists on the matter and various currents perceive anarchism slightly differently. Hence, it might be true to say that anarchism is a cluster of political philosophies opposing authority and hierarchical organization (including the state, capitalism, nationalism and all associated institutions) in the conduct of all human relations in favour of a society based on voluntary association, freedom and decentralisation, but this definition has its own shortcomings as the definition based on etymology (which is simply a negation of a ruler), or based on anti-statism (anarchism is much more than that) or even the anti-authoritarian (which is an \"a posteriori\" concussion). Major elements of the definition of anarchism include: a) the will for a non coercive society; b) the rejection of the state apparatus; c) belief in human nature, although it is even harder to define it than anarchism; and d) a suggestion on how to act to pursue the ideal of anarchy. During the prehistoric era of mankind, an established authority did not exist. It was after the creation of towns and cities that hierarchy was invented and anarchistic ideas espoused as a reaction. Most notable examples of anarchism in the ancient world were in China and Greece. In China, philosophical anarchism, meaning peaceful delegitimizing of the state, was delineated by Taoist philosophers (i.e. Zhuangzi and Lao Tzu). Likewise in Greece, anarchist attitudes were articulated by tragedians and philosophers. Aeschylus and Sophocles used the myth of Antigone to illustrate the conflict of personal autonomy with the state rules. Socrates questioned Athenian authorities constantly and insisted to the right of individual freedom of consciousness. Cynics dismissed human law (\"Nomos\") and associated authorities while trying to live according to nature (\"physis\"). Stoics were supportive of a society based on unofficial and friendly relations among its citizens without the presence of a state. During the Middle Ages, there was no anarchistic activity except some ascetic religious movements in the Islamic world or in Christian Europe. This kind of tradition later gave birth to religious anarchism. In Persia, a Zoroastrian Prophet known as Mazdak was calling for an egalitarian society and the abolition of monarchy, but he soon found himself executed by the king. In Basra, religious sects preached against the state. In Europe, various sects developed anti-state and libertarian tendencies. Those currents were the precursor of religious anarchism in the centuries to come. It was in the Renaissance and with the spread of reasoning and humanism through Europe that libertarian ideas emerged. Writers were outlining in their novels ideal societies that were based not on coercion but voluntarism. The Enlightenment further pushed towards anarchism with the optimism for social progress. The turning point towards anarchism was the French Revolution in which the anti-state and federalist sentiments began to take a form, mostly by Enragés and \"sans-culottes\". Some prominent figures of anarchism begun developing the first anarchist currents. That is the era of classical anarchism that lasted until the end of the Spanish Civil War of 1936 and was the golden age of anarchism. William Godwin espoused philosophical anarchism in England morally delegitimizing the state, Max Stirner\\'s thinking paved the way to individualism and Pierre-Joseph Proudhon\\'s theory of mutualism found fertile soil in France. Michael Bakunin took mutualism and extended it to collectivist anarchism. Bakunin\\'s current (Jura Federation) entered the class worker union called the International Workingmen\\'s Association (IWA), later known as the First International, formed in 1864 to unite diverse revolutionary currents. Due to its links to active workers\\' movements, the International became a significant organisation. Karl Marx became a leading figure in the International and a member of its General Council. Proudhon\\'s followers, the mutualists, opposed Marx\\'s state socialism, advocating political abstentionism and small property holdings. Bakunin\\'s followers entered a bitter dispute with Karl Marx which ended with the split of the workers movement that officially took place in the Fifth Congress of the IWA in the Hague, 1872. The major reason lay in fundamentally different approaches on how the workers would emancipate themselves. Marx was advocating for the creation of a political party to take part in electoral struggles whereas Bakunin thought that the whole set of Marx\\'s thinking was very authoritarian. Bakunin is famous for predicting that if such a party would gain power by Marxist\\'s terms, it would end up to be the new tyrant of workers. After being expelled from the IWA, anarchists formed the St. Imier International. Under the influence of Peter Kropotkin, a Russian philosopher and scientist, anarcho-communism overlapped collectivism. Anarcho-communists, who drew inspiration from the 1871 Paris Commune, advocated for free federation and distribution of goods according to one needs. The major argument of anarcho-communism was that Bakunian perspective would lead to antagonism among collectives. At the turning of the century, anarchism has spread all over the world. In China, small groups of students imported the humanistic pro-science version of anarcho-communism. Tokyo was a hotspot for rebellious youth from countries of the far east, pouring into Japanese capital to study. In Latin America, São Paulo was a stronghold and anarchosyndicalism was the most prominent left-wing ideology. During that time, a minority of anarchists embarked into utilizing of violence in order to achieve their political ends. This kind of strategy is named as propaganda by the deed. The dismemberment of the French socialist movement into many groups and the execution and exile of many Communards to penal colonies following the suppression of the Paris Commune favoured individualist political expression and acts. Even though many anarchists distanced themselves to those terrorist acts, anarchists were persecuted and were given bad fame. Illegalism, stealing the possessions of the rich because capitalists were not their rightful owners, was another strategy some anarchist adopted during the same years. Anarchists took part enthusiastically in the Russian Revolution. During the revolution, anarchists had concerns, but they opted for the revolution rather than supporting the Whites. However, they met harsh suppression after the Bolshevik government was stabilized. Anarchists in central Russia were either imprisoned, driven underground or joined the victorious Bolsheviks. Anarchists from Petrograd and Moscow instead fled to Ukraine. The Kronstadt rebellion and Nestor Makhno\\'s struggle in the Free Territory were the most notable examples. With the anarchists being crashed in Russia, two new antithetical currents emerged, namely platformism and synthesis anarchism. Platformists sought to create a coherent group that would push for the revolution while the latter were against anything that would resemble a political party. The victory of the Bolsheviks in the October Revolution and the resulting Russian Civil War did serious damage to anarchist movements internationally. Many workers and activists saw the Bolshevik success as setting an example and communist parties grew at the expense of anarchism and other socialist movements. In France and the United States, members of the major syndicalist movements of the General Confederation of Labour and Industrial Workers of the World (IWW) left the organisations and joined the Communist International. In the Spanish Civil War, anarchists and syndicalists (CNT and FAI) once again allied themselves with various currents of leftists. Spain had a long anarchist tradition and anarchists played an important role in the Civil War. In response to the army rebellion, an anarchist-inspired movement of peasants and workers, supported by armed militias, took control of Barcelona and of large areas of rural Spain where they collectivised the land. The Soviet Union provided some limited assistance at the beginning of the Civil War, but as Joseph Stalin tried to seize control of the Republicans the result was a bitter fight among communists and anarchists (i.e. at a series of events named May Days). In the first years after World War II, the anarchist movement was severely damaged. However, the 1960s witnessed a revival of anarchism. The main causes of such a revival may have been the perceived failure of Marxism–Leninism and the tension build by the Cold War. During this era, anarchism was mostly part of other movements critical to both the state and capitalism such as the anti-nuclear, environmental and pacifist movements, the New Left, or the counterculture of the 1960s. Anarchism was also associated with the punk rock movement as exemplified by bands such as Crass and the Sex Pistols. Although feminist tendencies have always been a part of the anarchist movement in the form of anarcha-feminism, they returned with vigour during the second wave of feminism in the 1960s. Around the turn of the 21st century, anarchism grew in popularity and influence as part of the anti-war, anti-capitalist and anti-globalisation movements. Anarchists became known for their involvement in protests against the meetings of the World Trade Organization (WTO), Group of Eight (G8) and the World Economic Forum (WEF). Some anarchist factions at these protests engaged in rioting, property destruction and violent confrontations with the police. These actions were precipitated by \"ad hoc\", leaderless, anonymous cadres known as black blocs—other organisational tactics pioneered in this time include security culture, affinity groups and the use of decentralised technologies such as the internet. A significant event of this period was the confrontations at the WTO conference in Seattle in 1999. Anarchist ideas have been influential in the development of the Zapatistas in Chiapas, Mexico, and the Democratic Federation of Northern Syria, more commonly known as Rojava, a \"de facto\" autonomous region in northern Syria. Anarchist schools of thought had been generally grouped in two main historical traditions (individualist anarchism and social anarchism) which have some different origins, values and evolution. The individualist wing of anarchism emphasises negative liberty (opposition to state or social control over the individual) while those in the social wing emphasise positive liberty to achieve one\\'s potential and argue that humans have needs that society ought to fulfil, \"recognising equality of entitlement\". In a chronological and theoretical sense, there are classical—those created throughout the 19th century—and post-classical anarchist schools—those created since the mid-20th century and after. Beyond the specific factions of anarchist thought is philosophical anarchism which the theoretical stance that the state lacks moral legitimacy without accepting the imperative of revolution to eliminate it. A component especially of individualist anarchism, philosophical anarchism may accept the existence of a minimal state as unfortunate and usually temporary, necessary evil, but argue that citizens do not have a moral obligation to obey the state when its laws conflict with individual autonomy. One reaction against sectarianism within the anarchist milieu was anarchism without adjectives, a call for toleration first adopted by Fernando Tarrida del Mármol in 1889 in response to the bitter debates of anarchist theory at the time. In abandoning the hyphenated anarchisms (i.e. collectivist-, communist-, mutualist- and individualist-anarchism), it sought to emphasise the anti-authoritarian beliefs common to all anarchist schools of thought. The various anarchist schools of thought or currents are not distinct entities, but intermingle with each other. Collectivist, communist and anarcho-syndicalism are considered a form of social anarchism. Mutualism and individualism were the other notable anarchist currents through the 19th and early 20th century. Social anarchism rejects private property, seeing it as a source of social inequality (while retaining respect for personal property) and emphasises cooperation and mutual aid. Mutualism began in 18th-century English and French labour movements before taking an anarchist form associated with Pierre-Joseph Proudhon in France and others in the United States. Proudhon proposed spontaneous order, whereby organisation emerges without central authority, a \"positive anarchy\" where order arises when everybody does \"what he wishes and only what he wishes\" and where \"business transactions alone produce the social order\". Proudhon distinguished between ideal political possibilities and practical governance. For this reason, much in contrast to some of his theoretical statements concerning ultimate spontaneous self-governance, Proudhon was heavily involved in French parliamentary politics and allied himself with the socialist factions of the workers movement. During his life of public service, he began advocating state-protected charters for worker-owned cooperatives and promoting certain nationalisation schemes. Mutualist anarchism is concerned with reciprocity, free association, voluntary contract, federation and credit and currency reform. According to the American mutualist William Batchelder Greene, each worker in the mutualist system would receive \"just and exact pay for his work; services equivalent in cost being exchangeable for services equivalent in cost, without profit or discount\". Mutualism has been retrospectively characterised as ideologically situated between individualist and collectivist forms of anarchism. Proudhon first characterised his goal as a \"third form of society, the synthesis of communism and property [which] we call LIBERTY\". Collectivist anarchism, also referred to as revolutionary socialism or a form of such, is a revolutionary form of anarchism, commonly associated with Mikhail Bakunin and Johann Most. At the epicentre of collectivist anarchism lies the belief in the potential of humankind for goodness and solidarity which will flourish when oppressive governments are abolished. Collectivist anarchists oppose all private ownership of the means of production, instead advocating that ownership be collectivised. This was to be achieved through violent revolution, first starting with a small cohesive group through acts of violence, or propaganda by the deed, to inspire the workers as a whole to revolt and forcibly collectivise the means of production. However, collectivisation was not to be extended to the distribution of income as workers would be paid according to time worked, rather than receiving goods being distributed according to need as in anarcho-communism. This position was criticised by anarcho-communists as effectively \"uphold[ing] the wages system\". Collectivist anarchism arose contemporaneously with Marxism, but it opposed the Marxist dictatorship of the proletariat despite the stated Marxist goal of a collectivist stateless society. Anarchist, communist and collectivist ideas are not mutually exclusive—although the collectivist anarchists advocated compensation for labour, some held out the possibility of a post-revolutionary transition to a communist system of distribution according to need. Anarcho-communism, also known as anarchist-communism, communist anarchism and libertarian communism, is a theory of anarchism that advocates abolition of the state, markets, money, private property (while retaining respect for personal property) and capitalism in favour of common ownership of the means of production, direct democracy and a horizontal network of voluntary associations and workers\\' councils with production and consumption based on the guiding principle: \"From each according to his ability, to each according to his need\". Anarcho-communism developed out of radical socialist currents after the French Revolution, but it was first formulated as such in the Italian section of the First International. The theoretical work of Peter Kropotkin took importance later as it expanded and developed pro-organisationalist and insurrectionary anti-organisationalist sections. To date, the best known examples of an anarcho-communist society (i.e. established around the ideas as they exist today and achieving worldwide attention and knowledge in the historical canon), are the anarchist territories during the Spanish Revolution and the Free Territory during the Russian Revolution. Through the efforts and influence of the Spanish anarchists during the Spanish Revolution within the Spanish Civil War starting in 1936, anarcho-communism existed in most of Aragon, parts of the Levante and Andalusia as well as in the stronghold of Catalonia. Along with the Republicans, it was crushed by the combined forces of the Francisco Franco\\'s Nationalists, Adolf Hitler and Benito Mussolini as well as repression by the Communist Party of Spain (backed by the Soviet Union) and economic and armaments blockades from the capitalist countries and the Spanish Republic itself. Anarcho-syndicalism is a branch of anarchism that focuses on the labour movement. Anarcho-syndicalists view labour unions as a potential force for revolutionary social change, replacing capitalism and the state with a new society democratically self-managed by workers. The basic principles of anarcho-syndicalism are workers\\' solidarity, direct action and workers\\' self-management. Anarcho-syndicalists believe that only direct action—that is, action concentrated on directly attaining a goal as opposed to indirect action such as electing a representative to a government position—will allow workers to liberate themselves. Moreover, anarcho-syndicalists believe that workers\\' organisations (the organisations that struggle against the wage system which in anarcho-syndicalist theory will eventually form the basis of a new society) should be self-managing. They should not have bosses or business agents—rather, the workers should be able to make all the decisions that affect them themselves. Rudolf Rocker was one of the most popular voices in the anarcho-syndicalist movement. He outlined a view of the origins of the movement, what it sought and why it was important to the future of labour in his 1938 pamphlet \"Anarcho-Syndicalism\". The International Workers Association is an international anarcho-syndicalist federation of various labour unions from different countries. The Spanish CNT played and still plays a major role in the Spanish labour movement. It was also an important force in the Spanish Civil War. Individualist anarchism refers to several traditions of thought within the anarchist movement that emphasise the individual and their will over any kinds of external determinants such as groups, society, traditions and ideological systems. Individualist anarchism is not a single philosophy, but it instead refers to a group of individualistic philosophies that sometimes are in conflict. In 1793, William Godwin, who has often been cited as the first anarchist, wrote \"Political Justice\", which some consider the first expression of anarchism. Godwin was a philosophical anarchist and from a rationalist and utilitarian basis opposed revolutionary action and saw a minimal state as a present \"necessary evil\" that would become increasingly irrelevant and powerless by the gradual spread of knowledge. Godwin advocated individualism, proposing that all cooperation in labour be eliminated on the premise that this would be most conducive with the general good. An influential form of individualist anarchism called egoism, or egoist anarchism, was expounded by one of the earliest and best-known proponents of individualist anarchism, the German Max Stirner. Stirner\\'s \"The Ego and Its Own\", published in 1844, is a founding text of the philosophy. According to Stirner, the only limitation on the rights of individuals is their power to obtain what they desire without regard for God, state, or morality. To Stirner, rights were \"spooks\" in the mind and he held that society does not exist, but \"the individuals are its reality\". Stirner advocated self-assertion and foresaw unions of egoists, non-systematic associations continually renewed by all parties\\' support through an act of will, which Stirner proposed as a form of organisation in place of the state. Egoist anarchists argue that egoism will foster genuine and spontaneous union between individuals. \"Egoism\" has inspired many interpretations of Stirner\\'s philosophy. It was re-discovered and promoted by German philosophical anarchist and homosexual activist John Henry Mackay. Josiah Warren was a pioneer American anarcho-individualist, who drew inspiration from Proudhon. Henry David Thoreau (1817–1862) was an important early influence in individualist anarchist thought in the United States and Europe. Thoreau was an American author, poet, naturalist, tax resister, development critic, surveyor, historian, philosopher and leading transcendentalist. He is best known for his books \"Walden\", a reflection upon simple living in natural surroundings, as well as his essay, \"Civil Disobedience\", an argument for individual resistance to civil government in moral opposition to an unjust state. Benjamin Tucker later fused Stirner\\'s egoism with the economics of Warren and Proudhon in his eclectic influential publication \"Liberty\". From these early influences, individualist anarchism in different countries attracted a small yet diverse following of Bohemian artists and intellectuals, free love and birth control advocates (see anarchism and issues related to love and sex), individualist naturists and nudists (see anarcho-naturism), freethought and anti-clerical activists as well as young anarchist outlaws in what became known as illegalism and individual reclamation (see European individualist anarchism and individualist anarchism in France). These authors and activists included Oscar Wilde, Emile Armand, Han Ryner, Henri Zisly, Renzo Novatore, Miguel Gimenez Igualada, Adolf Brand and Lev Chernyi, among others. Anarchist principles undergird contemporary radical social movements of the left. Interest in the anarchist movement developed alongside momentum in the anti-globalization movement, whose leading activist networks were anarchist in orientation. As the movement shaped 21st century radicalism, wider embrace of anarchist principles signaled a revival of interest. Contemporary news coverage which emphasizes black bloc demonstrations has reinforced anarchism\\'s historical association with chaos and violence, though its publicity has also led more scholars to engage with the anarchist movement. Anarchism continues to generate many philosophies and movements, at times eclectic, drawing upon various sources and syncretic, combining disparate concepts to create new philosophical approaches. Anticapitalism stays prominent within contemporary anarchism, continuing the tradition of classical anarchism. Insurrectionary anarchism is a revolutionary theory, practice and tendency within the anarchist movement which emphasises insurrection within anarchist practice. Critical of formal organisations such as labour unions and federations that are based on a political programme and periodic congresses, insurrectionary anarchists instead advocate informal organisation and small affinity group based organisation as well as putting value in attack, permanent class conflict and a refusal to negotiate or compromise with class enemies. Green anarchism, or eco-anarchism, is a school of thought within anarchism that emphasises environmental issues, with an important precedent in anarcho-naturism and whose main contemporary currents are anarcho-primitivism and social ecology. Writing from a green anarchist perspective, John Zerzan attributes the ills of today\\'s social degradation to technology and the birth of agricultural civilization. While Layla AbdelRahim argues that \"the shift in human consciousness was also a shift in human subsistence strategies, whereby some human animals reinvented their narrative to center murder and predation and thereby institutionalize violence\". According to AbdelRahim, civilization was the result of the human development of technologies and grammar for predatory economics. Language and literacy, she claims, are some of these technologies. Anarcho-pacifism is a tendency that rejects violence in the struggle for social change (see non-violence). It developed mostly in the Netherlands, Britain and the United States before and during the Second World War. Christian anarchism is a movement in political theology that combines anarchism and Christianity. Its main proponents included Leo Tolstoy, Dorothy Day, Ammon Hennacy and Jacques Ellul. Religious anarchism refers to a set of related anarchist ideologies that are inspired by the teachings of religions. While many anarchists have traditionally been sceptical of and opposed to organized religion, many different religions have served as inspiration for religious forms of anarchism, most notably Christianity as Christian anarchists believe that biblical teachings give credence to anarchist philosophy. Other examples include Buddhist anarchism, Jewish anarchism and most recently Neopaganism. Synthesis anarchism is a form of anarchism that tries to join anarchists of different tendencies under the principles of anarchism without adjectives. In the 1920s, this form found as its main proponents the anarcho-communists Voline and Sébastien Faure. It is the main principle behind the anarchist federations grouped around the contemporary global International of Anarchist Federations. Platformism is a tendency within the wider anarchist movement based on the organisational theories in the tradition of Dielo Truda\\'s \"Organisational Platform of the General Union of Anarchists (Draft)\". The document was based on the experiences of Russian anarchists in the 1917 October Revolution which led eventually to the victory of the Bolsheviks over the anarchists and other groups. The \"Platform\" attempted to address and explain the anarchist movement\\'s failures during the Russian Revolution. Post-left anarchy is a recent current in anarchist thought that promotes a critique of anarchism\\'s relationship to traditional left-wing politics. Some post-leftists seek to escape the confines of ideology in general also presenting a critique of organisations and morality. Influenced by the work of Max Stirner and by the Marxist Situationist International, post-left anarchy is marked by a focus on social insurrection and a rejection of leftist social organisation. Post-anarchism is a theoretical move towards a synthesis of classical anarchist theory and poststructuralist thought, drawing from diverse ideas including post-left anarchy, postmodernism, autonomism, postcolonialism and the Situationist International. Queer anarchism is a form of socialism which suggests anarchism as a solution to the issues faced by the LGBT community, mainly heteronormativity, homophobia, transphobia and biphobia. It arose during the late 20th century based on the work of Michel Foucault\\'s \"The History of Sexuality\" (1976). Left-wing market anarchism strongly affirm the classical liberal ideas of self-ownership and free markets while maintaining that taken to their logical conclusions these ideas support strongly anti-capitalist, anti-corporatist, anti-hierarchical and pro-labour positions in economics; anti-imperialism in foreign policy; and thoroughly radical views regarding such cultural issues as gender, sexuality and race. Anarcho-capitalism advocates the elimination of the state in favour of self-ownership in a free market. Anarcho-capitalism developed from radical American anti-state libertarianism and individualist anarchism, drawing from Austrian School economics, study of law and economics and public choice theory. There is a strong current within anarchism which believes that anarcho-capitalism cannot be considered a part of the anarchist movement due to the fact that anarchism has historically been an anti-capitalist movement and for definitional reasons which see anarchism as incompatible with capitalist forms. Anarcho-transhumanism is a recently new branch of anarchism that takes traditional and modern anarchism, typically drawing from anarcho-syndicalism, left-libertarianism, or libertarian socialism, and combines it with transhumanism and post-humanism. It can be described as a \"liberal democratic revolution, at its core the idea that people are happiest when they have rational control over their lives. Reason, science, and technology provide one kind of control, slowly freeing us from ignorance, toil, pain, disease and limited lifespans (aging)\". Some anarcho-transhumanists might also follow technogaianism. Anarcha-feminism, also called anarchist feminism and anarcho-feminism, combines anarchism with feminism. It generally views patriarchy as a manifestation of involuntary coercive hierarchy that should be replaced by decentralised free association. Anarcha-feminists believe that the struggle against patriarchy is an essential part of class struggle and the anarchist struggle against the state. In essence, the philosophy sees anarchist struggle as a necessary component of feminist struggle and vice versa. Anarcha-feminists espoused to a detailed analysis of patriarchy and claim that oppression has its roots to social norms. Anarcha-feminism began with the late 19th-century writings of early feminist anarchists such as Emma Goldman and Voltairine de Cleyre. Mujeres Libres was an anarchist women\\'s organisation in Spain that aimed to empower working class women, based on the idea of a double struggle for women\\'s liberation and social revolution and argued that the two objectives were equally important and should be pursued in parallel. In order to gain mutual support, they created networks of women anarchists. The second wave of anarcha-feminism arose in the 1960s. As anarchism is a philosophy that embodies many diverse attitudes, tendencies and schools of thought and as such disagreement over questions of values, ideology and tactics is common, its diversity has led to widely different use of identical terms among different anarchist traditions which has led to many definitional concerns in anarchist theory. For instance, the compatibility of capitalism, nationalism and religion with anarchism is widely disputed. Similarly, anarchism enjoys complex relationships with ideologies such as Marxism, communism, collectivism and trade unionism. Anarchists may be motivated by humanism, divine authority, enlightened self-interest, veganism, or any number of alternative ethical doctrines. Phenomena such as civilisation, technology (e.g. within anarcho-primitivism) and the democratic process may be sharply criticised within some anarchist tendencies and simultaneously lauded in others. On a tactical level, propaganda of the deed was a tactic used by anarchists in the 19th century (e.g. the nihilist movement), with some contemporary anarchists espousing alternative direct action methods such as nonviolence, counter-economics and anti-state cryptography to bring about an anarchist society. About the scope of an anarchist society, some anarchists advocate a global one while others do so by local ones. Intersecting and overlapping between various schools of thought, certain topics of interest and internal disputes have proven perennial within anarchist theory. An important current within anarchism is free love. In Europe, the main propagandist of free love within individualist anarchism was Emile Armand. He proposed the concept of \"la camaraderie amoureuse\" to speak of free love as the possibility of voluntary sexual encounter between consenting adults. He was also a consistent proponent of polyamory. In Germany, the Stirnerists Adolf Brand and John Henry Mackay were pioneering campaigners for the acceptance of male bisexuality and homosexuality. More recently, the British anarcho-pacifist Alex Comfort gained notoriety during the sexual revolution for writing the bestseller sex manual \"The Joy of Sex\". The issue of free love has a dedicated treatment in the work of French anarcho-hedonist philosopher Michel Onfray in such works as \"Théorie du corps amoureux. Pour une érotique solaire\" (2000) and \"L\\'invention du plaisir. Fragments cyréaniques\" (2002). English anarchist William Godwin considered education an important aspect. He was against state education as he considered those schools as a way of the state to replicate privileges of the ruling class. Godwin thought that education was the way to change the world. In his \"Political Justice\", he criticises state sponsored schooling and advocates for child\\'s protection from coercion. Max Stirner wrote in 1842 a long essay on education called \"The False Principle of our Education\" in which Stirner was advocating for child\\'s autonomy. In 1901, Catalan anarchist and free thinker Francesc Ferrer i Guàrdia established modern or progressive schools in Barcelona in defiance of an educational system controlled by the Catholic Church. Ferrer\\'s approach was secular, rejecting both the state and church involvement in the educational process and gave pupils plenty of autonomy (i.e. on setting the curriculum). Ferrer was aiming to educate the working class. The school closed after constant harassment by the state and Ferrer was later on arrested. Ferrer\\'s ideas generally formed the inspiration for a series of modern schools in the United States, Russian Christian anarchist Leo Tolstoy established a school for peasant children on his estate. Tolstoy\\'s educational experiments were short-lived due to harassment by the Tsarist secret police. Tolstoy established a conceptual difference between education and culture. He thought that \"[e]ducation is the tendency of one man to make another just like himself. [...] Education is culture under restraint, culture is free. [Education is] when the teaching is forced upon the pupil, and when then instruction is exclusive, that is when only those subjects are taught which the educator regards as necessary\". For him, \"without compulsion, education was transformed into culture\". A more recent libertarian tradition on education is that of unschooling and the free school in which child-led activity replaces pedagogic approaches. Experiments in Germany led to A. S. Neill founding what became Summerhill School in 1921. Summerhill is often cited as an example of anarchism in practice. However, although Summerhill and other free schools are radically libertarian, they differ in principle from those of Ferrer by not advocating an overtly political class struggle-approach. In addition to organising schools according to libertarian principles, anarchists have also questioned the concept of schooling per se. The term deschooling was popularised by Ivan Illich, who argued that the school as an institution is dysfunctional for self-determined learning and serves the creation of a consumer society instead. Objection to the state and its institutions is \"sine qua non\" of anarchism. Anarchists consider the government as a tool of domination and it is illegitimate regardless of political tendencies. Instead of people being able to control the aspects of their life, major decisions are taken by a small elite. Authority ultimately rests solely on power regardless if it is open or transparent as it still has the ability to coerce people. Another anarchist argument against states is that some people constituting a government, even the most altruistic among officials, will unavoidably seek to gain more power, leading to corruption. Anarchists consider the argument that the state is the collective will of people as a fairy tale since the ruling class is distinct from the rest of the society. Anarchist perspectives towards violence have always been perplexed and controversial. On one hand, anarcho-pacifists point out the unity of means and ends. On the other hand, other groups of anarchist are for direct action that can include sabotage or even terrorism. Emma Goldman and Errico Malatesta, who were proponents of limited use of violence, were arguing that violence is merely a reaction to state violence as a necessary evil. Peace activist and anarchist April Carter argues that violence is incompatible with anarchism because it is mostly associated with the state and authority as violence is immanent to the state. As the state\\'s capability to exercise violence is colossal nowadays, a rebellion or civil war would probably end in another authoritarian institute. Anarchist tactics vary considerably. A broad categorization would be the preference of revolutionary tactics to destroy oppressive States and institutions or aiming to change society through evolutionary means. Revolutionary methods can take violent form as they did in past insurgencies (i.e., in Spain, Mexico, Russia) or during violent protests by militant protestors such as the black bloc, who are generally much less violent than revolutionary movements a century ago. Anarchists also commonly employ direct action, which can take the form of disrupting and protesting against unjust hierarchies, or the form of self-managing their lives through the creation of counterinstitutions such as communes and non-hierarchical collectives. Often decision-making is handled in an anti-authoritarian way, with everyone having equal say in each decision, an approach known as horizontalism. Another aspect of anarchist tactics is their aim to strengthen social bonds through common actions. Reclaiming public space by anarchists is another method of creating social spaces and creating squats in order to organise themselves. During important events such as protests, when spaces are being occupied, they are often called \"Temporary Autonomous Zones\" (TAZ). Moral and pragmatic criticism of anarchism includes allegations of utopianism, tacit authoritarianism and vandalism towards feats of civilization. Anarchism is evaluated as unfeasible or utopian by its critics, often in general and formal debate. European history professor Carl Landauer argued that social anarchism is unrealistic and that government is a \"lesser evil\" than a society without \"repressive force\". He also argued that \"ill intentions will cease if repressive force disappears\" is an \"absurdity\". However, \"An Anarchist FAQ\" states the following: \"Anarchy is not a utopia, [and] anarchists make no such claims about human perfection. [...] Remaining disputes would be solved by reasonable methods, for example, the use of juries, mutual third parties, or community and workplace assemblies\". It also states that \"some sort of \\'court\\' system would still be necessary to deal with the remaining crimes and to adjudicate disputes between citizens\". The anarchist tendency known as platformism has been criticized by Situationists, insurrectionaries, synthesis anarchists and others of preserving tacitly statist, authoritarian or bureaucratic tendencies. In his essay \"On Authority\", Friedrich Engels claimed that radical decentralization promoted by anarchists would destroy modern industrial civilization, citing an example of railways: In the end, it is argued that authority in any form is a natural occurrence which should not be abolished. ', ' Autism is a developmental disorder characterized by difficulties with social interaction and communication and by restricted and repetitive behavior. Parents usually notice signs during the first three years of their child\\'s life. These signs often develop gradually, though some children with autism reach their developmental milestones at a normal pace before worsening. Autism is associated with a combination of genetic and environmental factors. Risk factors during pregnancy include certain infections, such as rubella, toxins including valproic acid, alcohol, cocaine, pesticides and air pollution, fetal growth restriction, and autoimmune diseases. Controversies surround other proposed environmental causes; for example, the vaccine hypothesis, which has been disproven. Autism affects information processing in the brain by altering connections and organization of nerve cells and their synapses. How this occurs is not well understood. In the DSM-5, autism and less severe forms of the condition, including Asperger syndrome and pervasive developmental disorder not otherwise specified (PDD-NOS), have been combined into the diagnosis of autism spectrum disorder (ASD). Early speech therapy or behavioral interventions can help children with autism gain self-care, social, and communication skills. Although there is no known cure, there have been cases of children who recovered. Not many children with autism live independently after reaching adulthood, though some are successful. An autistic culture has developed, with some individuals seeking a cure and others believing autism should be accepted as a difference and not treated as a disorder. Globally, autism is estimated to affect 24.8 million people . In the 2000s, the number of people affected was estimated at 1–2 per 1,000 people worldwide. In the developed countries, about 1.5% of children are diagnosed with ASD , a more than doubling from 0.7% in 2000 in the United States. It occurs four-to-five times more often in males than females. The number of people diagnosed has increased dramatically since the 1960s, partly due to changes in diagnostic practice. The question of whether actual rates have increased is unresolved. Autism is a highly variable neurodevelopmental disorder that first appears during infancy or childhood, and generally follows a steady course without remission. People with autism may be severely impaired in some respects but normal, or even superior, in others. Overt symptoms gradually begin after the age of six months, become established by age two or three years and tend to continue through adulthood, although often in more muted form. It is distinguished not by a single symptom but by a characteristic triad of symptoms: impairments in social interaction; impairments in communication; and restricted interests and repetitive behavior. Other aspects, such as atypical eating, are also common but are not essential for diagnosis. Individual symptoms of autism occur in the general population and appear not to associate highly, without a sharp line separating pathologically severe from common traits. Social deficits distinguish autism and the related autism spectrum disorders (ASD; see Classification) from other developmental disorders. People with autism have social impairments and often lack the intuition about others that many people take for granted. Noted autistic Temple Grandin described her inability to understand the social communication of neurotypicals, or people with normal neural development, as leaving her feeling \"like an anthropologist on Mars\". Unusual social development becomes apparent early in childhood. Autistic infants show less attention to social stimuli, smile and look at others less often, and respond less to their own name. Autistic toddlers differ more strikingly from social norms; for example, they have less eye contact and turn-taking, and do not have the ability to use simple movements to express themselves, such as pointing at things. Three- to five-year-old children with autism are less likely to exhibit social understanding, approach others spontaneously, imitate and respond to emotions, communicate nonverbally, and take turns with others. However, they do form attachments to their primary caregivers. Most children with autism display moderately less attachment security than neurotypical children, although this difference disappears in children with higher mental development or less severe ASD. Older children and adults with ASD perform worse on tests of face and emotion recognition although this may be partly due to a lower ability to define a person\\'s own emotions. Children with high-functioning autism suffer from more intense and frequent loneliness compared to non-autistic peers, despite the common belief that children with autism prefer to be alone. Making and maintaining friendships often proves to be difficult for those with autism. For them, the quality of friendships, not the number of friends, predicts how lonely they feel. Functional friendships, such as those resulting in invitations to parties, may affect the quality of life more deeply. There are many anecdotal reports, but few systematic studies, of aggression and violence in individuals with ASD. The limited data suggest that, in children with intellectual disability, autism is associated with aggression, destruction of property, and meltdowns. About a third to a half of individuals with autism do not develop enough natural speech to meet their daily communication needs. Differences in communication may be present from the first year of life, and may include delayed onset of babbling, unusual gestures, diminished responsiveness, and vocal patterns that are not synchronized with the caregiver. In the second and third years, children with autism have less frequent and less diverse babbling, consonants, words, and word combinations; their gestures are less often integrated with words. Children with autism are less likely to make requests or share experiences, and are more likely to simply repeat others\\' words (echolalia) or reverse pronouns. Joint attention seems to be necessary for functional speech, and deficits in joint attention seem to distinguish infants with ASD: for example: they may look at a pointing hand instead of the pointed-at object, and they consistently fail to point at objects in order to comment on or share an experience. Children with autism may have difficulty with imaginative play and with developing symbols into language. In a pair of studies, high-functioning children with autism aged 8–15 performed equally well as, and as adults better than, individually matched controls at basic language tasks involving vocabulary and spelling. Both autistic groups performed worse than controls at complex language tasks such as figurative language, comprehension and inference. As people are often sized up initially from their basic language skills, these studies suggest that people speaking to autistic individuals are more likely to overestimate what their audience comprehends. Autistic individuals can display many forms of repetitive or restricted behavior, which the Repetitive Behavior Scale-Revised (RBS-R) categorizes as follows. No single repetitive or self-injurious behavior seems to be specific to autism, but autism appears to have an elevated pattern of occurrence and severity of these behaviors. Autistic individuals may have symptoms that are independent of the diagnosis, but that can affect the individual or the family. An estimated 0.5% to 10% of individuals with ASD show unusual abilities, ranging from splinter skills such as the memorization of trivia to the extraordinarily rare talents of prodigious autistic savants. Many individuals with ASD show superior skills in perception and attention, relative to the general population. Sensory abnormalities are found in over 90% of those with autism, and are considered core features by some, although there is no good evidence that sensory symptoms differentiate autism from other developmental disorders. Differences are greater for under-responsivity (for example, walking into things) than for over-responsivity (for example, distress from loud noises) or for sensation seeking (for example, rhythmic movements). An estimated 60–80% of autistic people have motor signs that include poor muscle tone, poor motor planning, and toe walking; deficits in motor coordination are pervasive across ASD and are greater in autism proper. Unusual eating behavior occurs in about three-quarters of children with ASD, to the extent that it was formerly a diagnostic indicator. Selectivity is the most common problem, although eating rituals and food refusal also occur. Parents of children with ASD have higher levels of stress. Siblings of children with ASD report greater admiration of and less conflict with the affected sibling than siblings of unaffected children and were similar to siblings of children with Down syndrome in these aspects of the sibling relationship. However, they reported lower levels of closeness and intimacy than siblings of children with Down syndrome; siblings of individuals with ASD have greater risk of negative well-being and poorer sibling relationships as adults. There is tentative evidence that autism occurs more frequently in people with gender dysphoria. Gastrointestinal problems are one of the most commonly associated medical disorders in people with autism. These are linked to greater social impairment, irritability, behavior and sleep problems, language impairments and mood changes. It has long been presumed that there is a common cause at the genetic, cognitive, and neural levels for autism\\'s characteristic triad of symptoms. However, there is increasing suspicion that autism is instead a complex disorder whose core aspects have distinct causes that often co-occur. Autism has a strong genetic basis, although the genetics of autism are complex and it is unclear whether ASD is explained more by rare mutations with major effects, or by rare multigene interactions of common genetic variants. Complexity arises due to interactions among multiple genes, the environment, and epigenetic factors which do not change DNA sequencing but are heritable and influence gene expression. Many genes have been associated with autism through sequencing the genomes of affected individuals and their parents. Studies of twins suggest that heritability is 0.7 for autism and as high as 0.9 for ASD, and siblings of those with autism are about 25 times more likely to be autistic than the general population. However, most of the mutations that increase autism risk have not been identified. Typically, autism cannot be traced to a Mendelian (single-gene) mutation or to a single chromosome abnormality, and none of the genetic syndromes associated with ASDs have been shown to selectively cause ASD. Numerous candidate genes have been located, with only small effects attributable to any particular gene. Most loci individually explain less than 1% of cases of autism. The large number of autistic individuals with unaffected family members may result from spontaneous structural variation\\xa0— such as deletions, duplications or inversions in genetic material during meiosis. Hence, a substantial fraction of autism cases may be traceable to genetic causes that are highly heritable but not inherited: that is, the mutation that causes the autism is not present in the parental genome. Autism may be underdiagnosed in women and girls due to an assumption that it is primarily a male condition. Maternal nutrition and inflammation during preconception and pregnancy influences fetal neurodevelopment. Intrauterine growth restriction is associated with ASD, in both term and preterm infants. Maternal inflammatory and autoimmune diseases may damage fetal tissues, aggravating a genetic problem or damaging the nervous system. Exposure to air pollution during pregnancy, especially heavy metals and particulates, may increase the risk of autism. Environmental factors that have been claimed without evidence to contribute to or exacerbate autism include certain foods, infectious diseases, solvents, PCBs, phthalates and phenols used in plastic products, pesticides, brominated flame retardants, alcohol, smoking, illicit drugs, vaccines, and prenatal stress. Some such as the MMR vaccine have been completely disproven. Parents may first become aware of autistic symptoms in their child around the time of a routine vaccination. This has led to unsupported theories blaming vaccine \"overload\", a vaccine preservative, or the MMR vaccine for causing autism. The latter theory was supported by a litigation-funded study that has since been shown to have been \"an elaborate fraud\". Although these theories lack convincing scientific evidence and are biologically implausible, parental concern about a potential vaccine link with autism has led to lower rates of childhood immunizations, outbreaks of previously controlled childhood diseases in some countries, and the preventable deaths of several children. Autism\\'s symptoms result from maturation-related changes in various systems of the brain. How autism occurs is not well understood. Its mechanism can be divided into two areas: the pathophysiology of brain structures and processes associated with autism, and the neuropsychological linkages between brain structures and behaviors. The behaviors appear to have multiple pathophysiologies. There is evidence that gut–brain axis abnormalities may be involved. A 2015 review proposed that immune dysregulation, gastrointestinal inflammation, malfunction of the autonomic nervous system, gut flora alterations, and food metabolites may cause brain neuroinflammation and dysfunction. A 2016 review concludes that enteric nervous system abnormalities might play a role in neurological disorders such as autism. Neural connections and the immune system are a pathway that may allow diseases originated in the intestine to spread to the brain. Several lines of evidence point to synaptic dysfunction as a cause of autism. Some rare mutations may lead to autism by disrupting some synaptic pathways, such as those involved with cell adhesion. Gene replacement studies in mice suggest that autistic symptoms are closely related to later developmental steps that depend on activity in synapses and on activity-dependent changes. All known teratogens (agents that cause birth defects) related to the risk of autism appear to act during the first eight weeks from conception, and though this does not exclude the possibility that autism can be initiated or affected later, there is strong evidence that autism arises very early in development. Diagnosis is based on behavior, not cause or mechanism. Under the DSM-5, autism is characterized by persistent deficits in social communication and interaction across multiple contexts, as well as restricted, repetitive patterns of behavior, interests, or activities. These deficits are present in early childhood, typically before age three, and lead to clinically significant functional impairment. Sample symptoms include lack of social or emotional reciprocity, stereotyped and repetitive use of language or idiosyncratic language, and persistent preoccupation with unusual objects. The disturbance must not be better accounted for by Rett syndrome, intellectual disability or global developmental delay. ICD-10 uses essentially the same definition. Several diagnostic instruments are available. Two are commonly used in autism research: the Autism Diagnostic Interview-Revised (ADI-R) is a semistructured parent interview, and the Autism Diagnostic Observation Schedule (ADOS) uses observation and interaction with the child. The Childhood Autism Rating Scale (CARS) is used widely in clinical environments to assess severity of autism based on observation of children. The Diagnostic interview for social and communication disorders (DISCO) may also be used. A pediatrician commonly performs a preliminary investigation by taking developmental history and physically examining the child. If warranted, diagnosis and evaluations are conducted with help from ASD specialists, observing and assessing cognitive, communication, family, and other factors using standardized tools, and taking into account any associated medical conditions. A pediatric neuropsychologist is often asked to assess behavior and cognitive skills, both to aid diagnosis and to help recommend educational interventions. A differential diagnosis for ASD at this stage might also consider intellectual disability, hearing impairment, and a specific language impairment such as Landau–Kleffner syndrome. The presence of autism can make it harder to diagnose coexisting psychiatric disorders such as depression. Clinical genetics evaluations are often done once ASD is diagnosed, particularly when other symptoms already suggest a genetic cause. Although genetic technology allows clinical geneticists to link an estimated 40% of cases to genetic causes, consensus guidelines in the US and UK are limited to high-resolution chromosome and fragile X testing. A genotype-first model of diagnosis has been proposed, which would routinely assess the genome\\'s copy number variations. As new genetic tests are developed several ethical, legal, and social issues will emerge. Commercial availability of tests may precede adequate understanding of how to use test results, given the complexity of autism\\'s genetics. Metabolic and neuroimaging tests are sometimes helpful, but are not routine. ASD can sometimes be diagnosed by age 14 months, although diagnosis becomes increasingly stable over the first three years of life: for example, a one-year-old who meets diagnostic criteria for ASD is less likely than a three-year-old to continue to do so a few years later. In the UK the National Autism Plan for Children recommends at most 30 weeks from first concern to completed diagnosis and assessment, though few cases are handled that quickly in practice. Although the symptoms of autism and ASD begin early in childhood, they are sometimes missed; years later, adults may seek diagnoses to help them or their friends and family understand themselves, to help their employers make adjustments, or in some locations to claim disability living allowances or other benefits. Girls are often diagnosed later than boys. Underdiagnosis and overdiagnosis are problems in marginal cases, and much of the recent increase in the number of reported ASD cases is likely due to changes in diagnostic practices. The increasing popularity of drug treatment options and the expansion of benefits has given providers incentives to diagnose ASD, resulting in some overdiagnosis of children with uncertain symptoms. Conversely, the cost of screening and diagnosis and the challenge of obtaining payment can inhibit or delay diagnosis. It is particularly hard to diagnose autism among the visually impaired, partly because some of its diagnostic criteria depend on vision, and partly because autistic symptoms overlap with those of common blindness syndromes or blindisms. Autism is one of the five pervasive developmental disorders (PDD), which are characterized by widespread abnormalities of social interactions and communication, and severely restricted interests and highly repetitive behavior. These symptoms do not imply sickness, fragility, or emotional disturbance. Of the five PDD forms, Asperger syndrome is closest to autism in signs and likely causes; Rett syndrome and childhood disintegrative disorder share several signs with autism, but may have unrelated causes; PDD not otherwise specified (PDD-NOS; also called \"atypical autism\") is diagnosed when the criteria are not met for a more specific disorder. Unlike with autism, people with Asperger syndrome have no substantial delay in language development. The terminology of autism can be bewildering, with autism, Asperger syndrome and PDD-NOS often called the \"autism spectrum disorders\" (ASD) or sometimes the \"autistic disorders\", whereas autism itself is often called \"autistic disorder\", \"childhood autism\", or \"infantile autism\". In this article, \"autism\" refers to the classic autistic disorder; in clinical practice, though, \"autism\", \"ASD\", and \"PDD\" are often used interchangeably. ASD, in turn, is a subset of the broader autism phenotype, which describes individuals who may not have ASD but do have autistic-like traits, such as avoiding eye contact. The manifestations of autism cover a wide spectrum, ranging from individuals with severe impairments—who may be silent, developmentally disabled, and locked into hand flapping and rocking—to high functioning individuals who may have active but distinctly odd social approaches, narrowly focused interests, and verbose, pedantic communication. Because the behavior spectrum is continuous, boundaries between diagnostic categories are necessarily somewhat arbitrary. Sometimes the syndrome is divided into low-, medium- or high-functioning autism (LFA, MFA, and HFA), based on IQ thresholds, or on how much support the individual requires in daily life; these subdivisions are not standardized and are controversial. Autism can also be divided into syndromal and non-syndromal autism; the syndromal autism is associated with severe or profound intellectual disability or a congenital syndrome with physical symptoms, such as tuberous sclerosis. Although individuals with Asperger syndrome tend to perform better cognitively than those with autism, the extent of the overlap between Asperger syndrome, HFA, and non-syndromal autism is unclear. Some studies have reported diagnoses of autism in children due to a loss of language or social skills, as opposed to a failure to make progress, typically from 15 to 30 months of age. The validity of this distinction remains controversial; it is possible that regressive autism is a specific subtype, or that there is a continuum of behaviors between autism with and without regression. Research into causes has been hampered by the inability to identify biologically meaningful subgroups within the autistic population and by the traditional boundaries between the disciplines of psychiatry, psychology, neurology and pediatrics. Newer technologies such as fMRI and diffusion tensor imaging can help identify biologically relevant phenotypes (observable traits) that can be viewed on brain scans, to help further neurogenetic studies of autism; one example is lowered activity in the fusiform face area of the brain, which is associated with impaired perception of people versus objects. It has been proposed to classify autism using genetics as well as behavior. About half of parents of children with ASD notice their child\\'s unusual behaviors by age 18 months, and about four-fifths notice by age 24 months. According to an article, failure to meet any of the following milestones \"is an absolute indication to proceed with further evaluations. Delay in referral for such testing may delay early diagnosis and treatment and affect the long-term outcome\". The United States Preventive Services Task Force in 2016 found it was unclear if screening was beneficial or harmful among children in whom there is no concerns. The Japanese practice is to screen all children for ASD at 18 and 24 months, using autism-specific formal screening tests. In contrast, in the UK, children whose families or doctors recognize possible signs of autism are screened. It is not known which approach is more effective. Screening tools include the Modified Checklist for Autism in Toddlers (M-CHAT), the Early Screening of Autistic Traits Questionnaire, and the First Year Inventory; initial data on M-CHAT and its predecessor, the Checklist for Autism in Toddlers (CHAT), on children aged 18–30 months suggests that it is best used in a clinical setting and that it has low sensitivity (many false-negatives) but good specificity (few false-positives). It may be more accurate to precede these tests with a broadband screener that does not distinguish ASD from other developmental disorders. Screening tools designed for one culture\\'s norms for behaviors like eye contact may be inappropriate for a different culture. Although genetic screening for autism is generally still impractical, it can be considered in some cases, such as children with neurological symptoms and dysmorphic features. While infection with rubella during pregnancy causes fewer than 1% of cases of autism, vaccination against rubella can prevent many of those cases. The main goals when treating children with autism are to lessen associated deficits and family distress, and to increase quality of life and functional independence. In general, higher IQs are correlated with greater responsiveness to treatment and improved treatment outcomes. No single treatment is best and treatment is typically tailored to the child\\'s needs. Families and the educational system are the main resources for treatment. Services should be carried out by behavior analysts, special education teachers, speech pathologists, and licensed psychologists. Studies of interventions have methodological problems that prevent definitive conclusions about efficacy. However, the development of evidence-based interventions has advanced in recent years. Although many psychosocial interventions have some positive evidence, suggesting that some form of treatment is preferable to no treatment, the methodological quality of systematic reviews of these studies has generally been poor, their clinical results are mostly tentative, and there is little evidence for the relative effectiveness of treatment options. Intensive, sustained special education programs and behavior therapy early in life can help children acquire self-care, communication, and job skills, and often improve functioning and decrease symptom severity and maladaptive behaviors; claims that intervention by around age three years is crucial are not substantiated. While medications have not been found to help with core symptoms, they may be used for associated symptoms, such as irritability, inattention, or repetitive behavior patterns. Educational interventions often used include applied behavior analysis (ABA), developmental models, structured teaching, speech and language therapy, social skills therapy, and occupational therapy. Among these approaches, interventions either treat autistic features comprehensively, or focalize treatment on a specific area of deficit. The quality of research for early intensive behavioral intervention (EIBI)—a treatment procedure encompassing over thirty hours per week of the structured type of ABA that is carried out with very young children—is currently low, and more vigorous research designs with larger sample sizes are needed. Two theoretical frameworks outlined for early childhood intervention include structured and naturalistic ABA interventions, and developmental social pragmatic models (DSP). One interventional strategy utilizes a parent training model, which teaches parents how to implement various ABA and DSP techniques, allowing for parents to disseminate interventions themselves. Various DSP programs have been developed to explicitly deliver intervention systems through at-home parent implementation. Despite the recent development of parent training models, these interventions have demonstrated effectiveness in numerous studies, being evaluated as a probable efficacious mode of treatment. Early, intensive ABA therapy has demonstrated effectiveness in enhancing global functioning in preschool children, and is well-established for improving the intellectual performance of that age group. Similarly, a teacher-implemented intervention that utilizes a more naturalistic form of ABA combined with a developmental social pragmatic approach has been found to be beneficial in improving social-communication skills in young children, although there is less evidence in its treatment of global symptoms. Neuropsychological reports are often poorly communicated to educators, resulting in a gap between what a report recommends and what education is provided. It is not known whether treatment programs for children lead to significant improvements after the children grow up, and the limited research on the effectiveness of adult residential programs shows mixed results. The appropriateness of including children with varying severity of autism spectrum disorders in the general education population is a subject of current debate among educators and researchers. Medications may be used to treat ASD symptoms that interfere with integrating a child into home or school when behavioral treatment fails. They may also be used for associated health problems, such as ADHD or anxiety. More than half of US children diagnosed with ASD are prescribed psychoactive drugs or anticonvulsants, with the most common drug classes being antidepressants, stimulants, and antipsychotics. The atypical antipsychotic drugs risperidone and aripiprazole are FDA-approved for treating associated aggressive and self-injurious behaviors. However, their side effects must be weighed against their potential benefits, and people with autism may respond atypically. Side effects, for example, may include weight gain, tiredness, drooling, and aggression. SSRI antidepressants, such as fluoxetine and fluvoxamine, have been shown to be effective in reducing repetitive and ritualistic behaviors, while the stimulant medication methylphenidate is beneficial for some children with co-morbid inattentiveness or hyperactivity. There is scant reliable research about the effectiveness or safety of drug treatments for adolescents and adults with ASD. No known medication relieves autism\\'s core symptoms of social and communication impairments. Experiments in mice have reversed or reduced some symptoms related to autism by replacing or modulating gene function, suggesting the possibility of targeting therapies to specific rare mutations known to cause autism. Although many alternative therapies and interventions are available, few are supported by scientific studies. Treatment approaches have little empirical support in quality-of-life contexts, and many programs focus on success measures that lack predictive validity and real-world relevance. Some alternative treatments may place the child at risk. The preference that children with autism have for unconventional foods can lead to reduction in bone cortical thickness with this being greater in those on casein-free diets, as a consequence of the low intake of calcium and vitamin D; however, suboptimal bone development in ASD has also been associated with lack of exercise and gastrointestinal disorders. In 2005, botched chelation therapy killed a five-year-old child with autism. Chelation is not recommended for people with ASD since the associated risks outweigh any potential benefits. Another alternative medicine practice with no evidence is CEASE therapy, a mixture of homeopathy, supplements, and \\'vaccine detoxing\\'. Although popularly used as an alternative treatment for people with autism, as of 2018 there is no good evidence to recommend a gluten- and casein-free diet as a standard treatment. A 2018 review concluded that it may be a therapeutic option for specific groups of children with autism, such as those with known food intolerances or allergies, or with food intolerance markers. The authors analyzed the prospective trials conducted to date that studied the efficacy of the gluten- and casein-free diet in children with ASD (4 in total). All of them compared gluten- and casein-free diet versus normal diet with a control group (2 double blind randomized controlled trials, 1 double blind crossover trial, 1 single blind trial). In two of the studies, whose duration was 12 and 24 months, a significant improvement in ASD symptoms (efficacy rate 50%) was identified. In the other two studies, whose duration was 3 months, no significant effect was observed. The authors concluded that a longer duration of the diet may be necessary to achieve the improvement of the ASD symptoms. Other problems documented in the trials carried out include transgressions of the diet, small sample size, the heterogeneity of the participants and the possibility of a placebo effect. In the subset of people who have gluten sensitivity there is limited evidence that suggests that a gluten-free diet may improve some autistic behaviors. There is tentative evidence that music therapy may improve social interactions, verbal communication, and non-verbal communication skills. There has been early research looking at hyperbaric treatments in children with autism. The emergence of the autism rights movement has served as an attempt to encourage people to be more tolerant of those with autism. Through this movement, people hope to cause others to think of autism as a difference instead of a disease. Proponents of this movement wish to seek \"acceptance, not cures.\" There have also been many worldwide events promoting autism awareness such as World Autism Awareness Day, Light It Up Blue, Autism Sunday, Autistic Pride Day, Autreat, and others. There have also been many organizations dedicated to increasing the awareness of autism and the effects that autism has on someone\\'s life. These organizations include Autism Speaks, Autism National Committee, Autism Society of America, and many others. Social-science scholars have had an increased focused on studying those with autism in hopes to learn more about \"autism as a culture, transcultural comparisons... and research on social movements.\" Media has had an influence on how the public perceives those with autism. \"Rain Man\", a film that won 4 Oscars including Best Picture, depicts a character with autism who has incredible talents and abilities. While many autistic individuals do not have these special abilities, some have been successful in their fields. Treatment is expensive; indirect costs are more so. For someone born in 2000, a US study estimated an average lifetime cost of $ (net present value in dollars, inflation-adjusted from 2003 estimate), with about 10% medical care, 30% extra education and other care, and 60% lost economic productivity. Publicly supported programs are often inadequate or inappropriate for a given child, and unreimbursed out-of-pocket medical or therapy expenses are associated with likelihood of family financial problems; one 2008 US study found a 14% average loss of annual income in families of children with ASD, and a related study found that ASD is associated with higher probability that child care problems will greatly affect parental employment. US states increasingly require private health insurance to cover autism services, shifting costs from publicly funded education programs to privately funded health insurance. After childhood, key treatment issues include residential care, job training and placement, sexuality, social skills, and estate planning. There is no known cure. Children recover occasionally, so that they lose their diagnosis of ASD; this occurs sometimes after intensive treatment and sometimes not. It is not known how often recovery happens; reported rates in unselected samples have ranged from 3% to 25%. Most children with autism acquire language by age five or younger, though a few have developed communication skills in later years. Most children with autism lack social support, meaningful relationships, future employment opportunities or self-determination. Although core difficulties tend to persist, symptoms often become less severe with age. Few high-quality studies address long-term prognosis. Some adults show modest improvement in communication skills, but a few decline; no study has focused on autism after midlife. Acquiring language before age six, having an IQ above 50, and having a marketable skill all predict better outcomes; independent living is unlikely with severe autism. Many individuals with autism face significant obstacles in transitioning to adulthood. Compared to the general population individuals with autism are more likely to be unemployed and to have never had a job. People in their 20s with autism have an employment rate of 58%. Most recent reviews tend to estimate a prevalence of 1–2 per 1,000 for autism and close to 6 per 1,000 for ASD, and 11 per 1,000 children in the United States for ASD as of 2008; because of inadequate data, these numbers may underestimate ASD\\'s true rate. Globally, autism affects an estimated 24.8 million people , while Asperger syndrome affects a further 37.2 million. In 2012, the NHS estimated that the overall prevalence of autism among adults aged 18 years and over in the UK was 1.1%. Rates of PDD-NOS\\'s has been estimated at 3.7 per 1,000, Asperger syndrome at roughly 0.6 per 1,000, and childhood disintegrative disorder at 0.02 per 1,000. CDC estimates about 1 out of 59 (1.7%) for 2014, an increase from 1 out of every 68 children (1.5%) for 2010. The number of reported cases of autism increased dramatically in the 1990s and early 2000s. This increase is largely attributable to changes in diagnostic practices, referral patterns, availability of services, age at diagnosis, and public awareness, though unidentified environmental risk factors cannot be ruled out. The available evidence does not rule out the possibility that autism\\'s true prevalence has increased; a real increase would suggest directing more attention and funding toward changing environmental factors instead of continuing to focus on genetics. Boys are at higher risk for ASD than girls. The sex ratio averages 4.3:1 and is greatly modified by cognitive impairment: it may be close to 2:1 with intellectual disability and more than 5.5:1 without. Several theories about the higher prevalence in males have been investigated, but the cause of the difference is unconfirmed; one theory is that females are underdiagnosed. Although the evidence does not implicate any single pregnancy-related risk factor as a cause of autism, the risk of autism is associated with advanced age in either parent, and with diabetes, bleeding, and use of psychiatric drugs in the mother during pregnancy. The risk is greater with older fathers than with older mothers; two potential explanations are the known increase in mutation burden in older sperm, and the hypothesis that men marry later if they carry genetic liability and show some signs of autism. Most professionals believe that race, ethnicity, and socioeconomic background do not affect the occurrence of autism. Several other conditions are common in children with autism. They include: A few examples of autistic symptoms and treatments were described long before autism was named. The \"Table Talk\" of Martin Luther, compiled by his notetaker, Mathesius, contains the story of a 12-year-old boy who may have been severely autistic. Luther reportedly thought the boy was a soulless mass of flesh possessed by the devil, and suggested that he be suffocated, although a later critic has cast doubt on the veracity of this report. The earliest well-documented case of autism is that of Hugh Blair of Borgue, as detailed in a 1747 court case in which his brother successfully petitioned to annul Blair\\'s marriage to gain Blair\\'s inheritance. The Wild Boy of Aveyron, a feral child caught in 1798, showed several signs of autism; the medical student Jean Itard treated him with a behavioral program designed to help him form social attachments and to induce speech via imitation. The New Latin word \"autismus\" (English translation \"autism\") was coined by the Swiss psychiatrist Eugen Bleuler in 1910 as he was defining symptoms of schizophrenia. He derived it from the Greek word \"autós\" (αὐτός, meaning \"self\"), and used it to mean morbid self-admiration, referring to \"autistic withdrawal of the patient to his fantasies, against which any influence from outside becomes an intolerable disturbance\". A Soviet child psychiatrist, Grunya Sukhareva, described a similar syndrome that was published in Russian in 1925, and in German in 1926. The word \"autism\" first took its modern sense in 1938 when Hans Asperger of the Vienna University Hospital adopted Bleuler\\'s terminology \"autistic psychopaths\" in a lecture in German about child psychology. Asperger was investigating an ASD now known as Asperger syndrome, though for various reasons it was not widely recognized as a separate diagnosis until 1981. Leo Kanner of the Johns Hopkins Hospital first used \"autism\" in its modern sense in English when he introduced the label \"early infantile autism\" in a 1943 report of 11 children with striking behavioral similarities. Almost all the characteristics described in Kanner\\'s first paper on the subject, notably \"autistic aloneness\" and \"insistence on sameness\", are still regarded as typical of the autistic spectrum of disorders. It is not known whether Kanner derived the term independently of Asperger. Donald Triplett was the first person diagnosed with autism. He was diagnosed by Kanner after being first examined in 1938, and was labeled as \"case 1\". Triplett was noted for his savant abilities, particularly being able to name musical notes played on a piano and to mentally multiply numbers. His father, Oliver, described him as socially withdrawn but interested in number patterns, music notes, letters of the alphabet, and U.S. president pictures. By the age of 2, he had the ability to recite the 23rd Psalm and memorized 25 questions and answers from the Presbyterian catechism. He was also interested in creating musical chords. Kanner\\'s reuse of \"autism\" led to decades of confused terminology like \"infantile schizophrenia\", and child psychiatry\\'s focus on maternal deprivation led to misconceptions of autism as an infant\\'s response to \"refrigerator mothers\". Starting in the late 1960s autism was established as a separate syndrome. As late as the mid-1970s there was little evidence of a genetic role in autism; while in 2007 it was believed to be one of the most heritable psychiatric conditions. Although the rise of parent organizations and the destigmatization of childhood ASD have affected how ASD is viewed, parents continue to feel social stigma in situations where their child\\'s autistic behavior is perceived negatively, and many primary care physicians and medical specialists express some beliefs consistent with outdated autism research. It took until 1980 for the DSM-III to differentiate autism from childhood schizophrenia. In 1987, the DSM-III-R provided a checklist for diagnosing autism. In May 2013, the DSM-5 was released, updating the classification for pervasive developmental disorders. The grouping of disorders, including PDD-NOS, autism, Asperger syndrome, Rett syndrome, and CDD, has been removed and replaced with the general term of Autism Spectrum Disorders. The two categories that exist are impaired social communication and/or interaction, and restricted and/or repetitive behaviors. The Internet has helped autistic individuals bypass nonverbal cues and emotional sharing that they find difficult to deal with, and has given them a way to form online communities and work remotely. Societal and cultural aspects of autism have developed: some in the community seek a cure, while others believe that autism is simply another way of being. ', ' Albedo () (, meaning \\'whiteness\\') is the measure of the diffuse reflection of solar radiation out of the total solar radiation received by an astronomical body (e.g. a planet like Earth). It is dimensionless and measured on a scale from 0 (corresponding to a black body that absorbs all incident radiation) to 1 (corresponding to a body that reflects all incident radiation). Surface albedo is defined as the ratio of radiosity to the irradiance (flux per unit area) received by a surface. The proportion reflected is not only determined by properties of the surface itself, but also by the spectral and angular distribution of solar radiation reaching the Earth\\'s surface. These factors vary with atmospheric composition, geographic location and time (see position of the Sun). While bi-hemispherical reflectance is calculated for a single angle of incidence (i.e., for a given position of the Sun), albedo is the directional integration of reflectance over all solar angles in a given period. The temporal resolution may range from seconds (as obtained from flux measurements) to daily, monthly, or annual averages. Unless given for a specific wavelength (spectral albedo), albedo refers to the entire spectrum of solar radiation. Due to measurement constraints, it is often given for the spectrum in which most solar energy reaches the surface (between 0.3 and 3 μm). This spectrum includes visible light (0.39–0.7 μm), which explains why surfaces with a low albedo appear dark (e.g., trees absorb most radiation), whereas surfaces with a high albedo appear bright (e.g., snow reflects most radiation). Albedo is an important concept in climatology, astronomy, and environmental management (e.g., as part of the Leadership in Energy and Environmental Design (LEED) program for sustainable rating of buildings). The average albedo of the Earth from the upper atmosphere, its \"planetary albedo\", is 30–35% because of cloud cover, but widely varies locally across the surface because of different geological and environmental features. The term albedo was introduced into optics by Johann Heinrich Lambert in his 1760 work \"Photometria\". Any albedo in visible light falls within a range of about 0.9 for fresh snow to about 0.04 for charcoal, one of the darkest substances. Deeply shadowed cavities can achieve an effective albedo approaching the zero of a black body. When seen from a distance, the ocean surface has a low albedo, as do most forests, whereas desert areas have some of the highest albedos among landforms. Most land areas are in an albedo range of 0.1 to 0.4. The average albedo of Earth is about 0.3. This is far higher than for the ocean primarily because of the contribution of clouds. Earth\\'s surface albedo is regularly estimated via Earth observation satellite sensors such as NASA\\'s MODIS instruments on board the Terra and Aqua satellites, and the CERES instrument on the Suomi NPP and JPSS. As the amount of reflected radiation is only measured for a single direction by satellite, not all directions, a mathematical model is used to translate a sample set of satellite reflectance measurements into estimates of directional-hemispherical reflectance and bi-hemispherical reflectance (e.g.,). These calculations are based on the bidirectional reflectance distribution function (BRDF), which describes how the reflectance of a given surface depends on the view angle of the observer and the solar angle. BDRF can facilitate translations of observations of reflectance into albedo. Earth\\'s average surface temperature due to its albedo and the greenhouse effect is currently about 15\\xa0°C. If Earth were frozen entirely (and hence be more reflective), the average temperature of the planet would drop below −40\\xa0°C. If only the continental land masses became covered by glaciers, the mean temperature of the planet would drop to about 0\\xa0°C. In contrast, if the entire Earth was covered by water — a so-called ocean planet — the average temperature on the planet would rise to almost 27\\xa0°C. For land surfaces, it has been shown that the albedo at a particular solar zenith angle \"θ\" can be approximated by the proportionate sum of two terms: the directional-hemispherical reflectance at that solar zenith angle, formula_1, and the bi-hemispherical reflectance, formula_2, with formula_3 being the proportion of direct radiation from a given solar angle, and formula_4 being the proportion of diffuse illumination. Hence, the actual albedo formula_5 (also called blue-sky albedo) can then be given as: Directional-hemispherical reflectance is sometimes referred to as black-sky albedo and bi-hemispherical reflectance as white-sky albedo. These terms are important because they allow the albedo to be calculated for any given illumination conditions from a knowledge of the intrinsic properties of the surface. The albedos of planets, satellites and minor planets such as asteroids can be used to infer much about their properties. The study of albedos, their dependence on wavelength, lighting angle (\"phase angle\"), and variation in time comprises a major part of the astronomical field of photometry. For small and far objects that cannot be resolved by telescopes, much of what we know comes from the study of their albedos. For example, the absolute albedo can indicate the surface ice content of outer Solar System objects, the variation of albedo with phase angle gives information about regolith properties, whereas unusually high radar albedo is indicative of high metal content in asteroids. Enceladus, a moon of Saturn, has one of the highest known albedos of any body in the Solar System, with 99% of EM radiation reflected. Another notable high-albedo body is Eris, with an albedo of 0.96. Many small objects in the outer Solar System and asteroid belt have low albedos down to about 0.05. A typical comet nucleus has an albedo of 0.04. Such a dark surface is thought to be indicative of a primitive and heavily space weathered surface containing some organic compounds. The overall albedo of the Moon is measured to be around 0.136, but it is strongly directional and non-Lambertian, displaying also a strong opposition effect. Although such reflectance properties are different from those of any terrestrial terrains, they are typical of the regolith surfaces of airless Solar System bodies. Two common albedos that are used in astronomy are the (V-band) geometric albedo (measuring brightness when illumination comes from directly behind the observer) and the Bond albedo (measuring total proportion of electromagnetic energy reflected). Their values can differ significantly, which is a common source of confusion. In detailed studies, the directional reflectance properties of astronomical bodies are often expressed in terms of the five Hapke parameters which semi-empirically describe the variation of albedo with phase angle, including a characterization of the opposition effect of regolith surfaces. The correlation between astronomical (geometric) albedo, absolute magnitude and diameter is: formula_7, where formula_8 is the astronomical albedo, formula_9 is the diameter in kilometers, and formula_10 is the absolute magnitude. Albedo is not directly dependent on illumination because changing the amount of incoming light proportionally changes the amount of reflected light, except in circumstances where a change in illumination induces a change in the Earth\\'s surface at that location (e.g. through albedo-temperature feedback). That said, albedo and illumination both vary by latitude. Albedo is highest near the poles and lowest in the subtropics, with a local maximum in the tropics. The intensity of albedo temperature effects depends on the amount of albedo and the level of local insolation (solar irradiance); high albedo areas in the arctic and antarctic regions are cold due to low insolation, where areas such as the Sahara Desert, which also have a relatively high albedo, will be hotter due to high insolation. Tropical and sub-tropical rainforest areas have low albedo, and are much hotter than their temperate forest counterparts, which have lower insolation. Because insolation plays such a big role in the heating and cooling effects of albedo, high insolation areas like the tropics will tend to show a more pronounced fluctuation in local temperature when local albedo changes. Arctic regions notably release more heat back into space than what they absorb, effectively cooling the Earth. This has been a concern since arctic ice and snow has been melting at higher rates due to higher temperatures, creating regions in the arctic that are notably darker (being water or ground which is darker color) and reflects less heat back into space. This feedback loop results in a reduced albedo effect. Albedo affects climate by determining how much radiation a planet absorbs. The uneven heating of Earth from albedo variations between land, ice, or ocean surfaces can drive weather. When an area\\'s albedo changes due to snowfall, a snow–temperature feedback results. A layer of snowfall increases local albedo, reflecting away sunlight, leading to local cooling. In principle, if no outside temperature change affects this area (e.g., a warm air mass), the raised albedo and lower temperature would maintain the current snow and invite further snowfall, deepening the snow–temperature feedback. However, because local weather is dynamic due to the change of seasons, eventually warm air masses and a more direct angle of sunlight (higher insolation) cause melting. When the melted area reveals surfaces with lower albedo, such as grass or soil, the effect is reversed: the darkening surface lowers albedo, increasing local temperatures, which induces more melting and thus reducing the albedo further, resulting in still more heating. Snow albedo is highly variable, ranging from as high as 0.9 for freshly fallen snow, to about 0.4 for melting snow, and as low as 0.2 for dirty snow. Over Antarctica snow albedo averages a little more than 0.8. If a marginally snow-covered area warms, snow tends to melt, lowering the albedo, and hence leading to more snowmelt because more radiation is being absorbed by the snowpack (the ice–albedo positive feedback). Just as fresh snow has a higher albedo than does dirty snow, the albedo of snow-covered sea ice is far higher than that of sea water. Sea water absorbs more solar radiation than would the same surface covered with reflective snow. When sea ice melts, either due to a rise in sea temperature or in response to increased solar radiation from above, the snow-covered surface is reduced, and more surface of sea water is exposed, so the rate of energy absorption increases. The extra absorbed energy heats the sea water, which in turn increases the rate at which sea ice melts. As with the preceding example of snowmelt, the process of melting of sea ice is thus another example of a positive feedback. Both positive feedback loops have long been recognized as important to the modern theory of Global warming. Cryoconite, powdery windblown dust containing soot, sometimes reduces albedo on glaciers and ice sheets. The dynamical nature of albedo in response to positive feedback, together with the effects of small errors in the measurement of albedo, can lead to large errors in energy estimates. Because of this, in order to reduce the error of energy estimates, it is important to measure the albedo of snow-covered areas through remote sensing techniques rather than applying a single value for albedo over broad regions. Albedo works on a smaller scale, too. In sunlight, dark clothes absorb more heat and light-coloured clothes reflect it better, thus allowing some control over body temperature by exploiting the albedo effect of the colour of external clothing. Albedo can affect the electrical energy output of solar photovoltaic devices. For example, the effects of a spectrally responsive albedo are illustrated by the differences between the spectrally weighted albedo of solar photovoltaic technology based on hydrogenated amorphous silicon (a-Si:H) and crystalline silicon (c-Si)-based compared to traditional spectral-integrated albedo predictions. Research showed impacts of over 10%. More recently, the analysis was extended to the effects of spectral bias due to the specular reflectivity of 22 commonly occurring surface materials (both human-made and natural) and analyzes the albedo effects on the performance of seven photovoltaic materials covering three common photovoltaic system topologies: industrial (solar farms), commercial flat rooftops and residential pitched-roof applications. Because forests generally have a low albedo, (the majority of the ultraviolet and visible spectrum is absorbed through photosynthesis), some scientists have suggested that greater heat absorption by trees could offset some of the carbon benefits of afforestation (or offset the negative climate impacts of deforestation). In the case of evergreen forests with seasonal snow cover albedo reduction may be great enough for deforestation to cause a net cooling effect. Trees also impact climate in extremely complicated ways through evapotranspiration. The water vapor causes cooling on the land surface, causes heating where it condenses, acts a strong greenhouse gas, and can increase albedo when it condenses into clouds. Scientists generally treat evapotranspiration as a net cooling impact, and the net climate impact of albedo and evapotranspiration changes from deforestation depends greatly on local climate. In seasonally snow-covered zones, winter albedos of treeless areas are 10% to 50% higher than nearby forested areas because snow does not cover the trees as readily. Deciduous trees have an albedo value of about 0.15 to 0.18 whereas coniferous trees have a value of about 0.09 to 0.15. Variation in summer albedo across both forest types is correlated with maximum rates of photosynthesis because plants with high growth capacity display a greater fraction of their foliage for direct interception of incoming radiation in the upper canopy. The result is that wavelengths of light not used in photosynthesis are more likely to be reflected back to space rather than being absorbed by other surfaces lower in the canopy. Studies by the Hadley Centre have investigated the relative (generally warming) effect of albedo change and (cooling) effect of carbon sequestration on planting forests. They found that new forests in tropical and midlatitude areas tended to cool; new forests in high latitudes (e.g., Siberia) were neutral or perhaps warming. Water reflects light very differently from typical terrestrial materials. The reflectivity of a water surface is calculated using the Fresnel equations (see graph). At the scale of the wavelength of light even wavy water is always smooth so the light is reflected in a locally specular manner (not diffusely). The glint of light off water is a commonplace effect of this. At small angles of incident light, waviness results in reduced reflectivity because of the steepness of the reflectivity-vs.-incident-angle curve and a locally increased average incident angle. Although the reflectivity of water is very low at low and medium angles of incident light, it becomes very high at high angles of incident light such as those that occur on the illuminated side of Earth near the terminator (early morning, late afternoon, and near the poles). However, as mentioned above, waviness causes an appreciable reduction. Because light specularly reflected from water does not usually reach the viewer, water is usually considered to have a very low albedo in spite of its high reflectivity at high angles of incident light. Note that white caps on waves look white (and have high albedo) because the water is foamed up, so there are many superimposed bubble surfaces which reflect, adding up their reflectivities. Fresh \\'black\\' ice exhibits Fresnel reflection. Snow on top of this sea ice increases the albedo to 0.9. Cloud albedo has substantial influence over atmospheric temperatures. Different types of clouds exhibit different reflectivity, theoretically ranging in albedo from a minimum of near 0 to a maximum approaching 0.8. \"On any given day, about half of Earth is covered by clouds, which reflect more sunlight than land and water. Clouds keep Earth cool by reflecting sunlight, but they can also serve as blankets to trap warmth.\" Albedo and climate in some areas are affected by artificial clouds, such as those created by the contrails of heavy commercial airliner traffic. A study following the burning of the Kuwaiti oil fields during Iraqi occupation showed that temperatures under the burning oil fires were as much as 10\\xa0°C colder than temperatures several miles away under clear skies. Aerosols (very fine particles/droplets in the atmosphere) have both direct and indirect effects on Earth\\'s radiative balance. The direct (albedo) effect is generally to cool the planet; the indirect effect (the particles act as cloud condensation nuclei and thereby change cloud properties) is less certain. As per Spracklen et al. the effects are: Another albedo-related effect on the climate is from black carbon particles. The size of this effect is difficult to quantify: the Intergovernmental Panel on Climate Change estimates that the global mean radiative forcing for black carbon aerosols from fossil fuels is +0.2 W m, with a range +0.1 to +0.4 W m. Black carbon is a bigger cause of the melting of the polar ice cap in the Arctic than carbon dioxide due to its effect on the albedo. Human activities (e.g., deforestation, farming, and urbanization) change the albedo of various areas around the globe. However, quantification of this effect on the global scale is difficult. Single-scattering albedo is used to define scattering of electromagnetic waves on small particles. It depends on properties of the material (refractive index); the size of the particle or particles; and the wavelength of the incoming radiation. Albedo can be measured by an Albedometer. ']\n"
     ]
    }
   ],
   "source": [
    "import os\n",
    "import re\n",
    "\n",
    "dataset = []\n",
    "# iterate through all the articles and get the id, url, name and text from all the articles\n",
    "\n",
    "# read the file containing all articles saved in this folder\n",
    "file = open(os.getcwd()+\"/wiki_00.txt\",  'r', encoding=\"utf-8\")\n",
    "text = file.read().strip()\n",
    "file.close()\n",
    "#print(text)\n",
    "\n",
    "# use simple regular expressions to retrieve the article id, url, title and body.\n",
    "article_id = re.findall('<doc id=\"(.*)\" url', text)\n",
    "article_url = re.findall(' url=\"(.*)\" title', text)\n",
    "article_title = re.findall(' title=\"(.*)\">', text)\n",
    "\n",
    "article_body =[]\n",
    "text = re.sub(\"\\n\",\" \",text)\n",
    "text = re.sub(\" +\",\" \",text)\n",
    "text = re.sub(\"\\'\",\"'\",text) # issue created by previous substitutions\n",
    "for title in article_title:\n",
    "    regex = title+'\"> '+title+'(.*) </doc>'\n",
    "    body = re.findall(regex, text)\n",
    "    article_body.append(body)\n",
    "articles =[]\n",
    "for article in article_body:\n",
    "    body = article[0].split('</doc>', 1)[0] # cut off at right ending\n",
    "    articles.append(body)\n",
    "    \n",
    "print(len(article_id),len(article_url),len(article_title),len(articles))\n",
    "print(article_id)\n",
    "print(article_url[:3])\n",
    "print(article_title)\n",
    "print(articles[:3])\n",
    "\n",
    "# create 4-tuple with meta-info per article\n",
    "for j in range(len(article_id)):\n",
    "    dataset.append((article_id[j],article_url[j],article_title[j],articles[j]))     \n",
    "        \n",
    "N = len(dataset)"
   ]
  },
  {
   "cell_type": "markdown",
   "metadata": {},
   "source": [
    "## Clean data"
   ]
  },
  {
   "cell_type": "code",
   "execution_count": 10,
   "metadata": {},
   "outputs": [],
   "source": [
    "import numpy as np\n",
    "\n",
    "def convert_lower_case(data):\n",
    "    return np.char.lower(data)\n",
    "\n",
    "from nltk.corpus import stopwords\n",
    "from nltk import word_tokenize\n",
    "#nltk.download('stopwords')\n",
    "\n",
    "def remove_stop_words(data):\n",
    "    stop_words = stopwords.words('english')\n",
    "    words = word_tokenize(str(data))\n",
    "    # iterate over all the stop words and not append to the list if it’s a stop word\n",
    "    new_text = \"\"\n",
    "    for word in words:\n",
    "        if word not in stop_words and len(word) > 1: # remove stop words and single characters\n",
    "            new_text = new_text + \" \" + word\n",
    "    return new_text\n",
    "\n",
    "def remove_punctuation(data):\n",
    "    symbols = \"!\\\"#$%&()*+-./:;<=>?@[\\]^_`{|}~\\n\"\n",
    "    for i in range(len(symbols)):\n",
    "        data = np.char.replace(data, symbols[i], ' ') # remove every occurence of this symbol\n",
    "        data = np.char.replace(data, \"  \", \" \") # remove extra spaces\n",
    "    data = np.char.replace(data, ',', '') #remove comma seperately?\n",
    "    return data\n",
    "\n",
    "def remove_apostrophe(data):\n",
    "    return np.char.replace(data, \"'\", \"\") #seperate?\n",
    "\n",
    "from nltk.stem.porter import *\n",
    "from nltk.stem import PorterStemmer\n",
    "\n",
    "def stemming(data): # reduce words to its stem\n",
    "    stemmer= PorterStemmer() # rule-based stemmer, identifies and removes the suffix or affix of a word\n",
    "    \n",
    "    tokens = word_tokenize(str(data))\n",
    "    new_text = \"\"\n",
    "    for w in tokens:\n",
    "        new_text = new_text + \" \" + stemmer.stem(w)\n",
    "    return new_text\n",
    "# A better efficient way is to first lemmatise and then stem\n",
    "\n",
    "import num2words\n",
    "\n",
    "def convert_numbers(data):\n",
    "    tokens = word_tokenize(str(data))\n",
    "    new_text = \"\"\n",
    "    for w in tokens:\n",
    "        try:\n",
    "            w = num2words(int(w),lang='en')\n",
    "        except:\n",
    "            a = 0\n",
    "        new_text = new_text + \" \" + w\n",
    "    new_text = np.char.replace(new_text, \"-\", \" \")\n",
    "    return new_text\n",
    "\n",
    "def preprocess(data):\n",
    "    data = convert_lower_case(data)\n",
    "    data = remove_punctuation(data) #remove comma seperately\n",
    "    data = remove_apostrophe(data)\n",
    "    data = remove_stop_words(data)\n",
    "    data = convert_numbers(data)\n",
    "    #data = stemming(data)\n",
    "    data = remove_punctuation(data)\n",
    "    data = convert_numbers(data)\n",
    "    #data = stemming(data) #needed again as we need to stem the words\n",
    "    data = remove_punctuation(data) #needed again as num2word is giving few hypens and commas fourty-one\n",
    "    data = remove_stop_words(data) #needed again as num2word is giving stop words 101 - one hundred and one\n",
    "    return data"
   ]
  },
  {
   "cell_type": "code",
   "execution_count": 11,
   "metadata": {},
   "outputs": [],
   "source": [
    "processed_text = []\n",
    "processed_title = []\n",
    "for i in dataset:\n",
    "    processed_text.append(word_tokenize(str(preprocess(i[3]))))\n",
    "    processed_title.append(word_tokenize(str(preprocess(i[2]))))"
   ]
  },
  {
   "cell_type": "markdown",
   "metadata": {},
   "source": [
    "## Build model"
   ]
  },
  {
   "cell_type": "code",
   "execution_count": 12,
   "metadata": {},
   "outputs": [],
   "source": [
    "DF = {}\n",
    "# iterate through all the words in all the documents and store the document id’s for each word.\n",
    "for i in range(N):\n",
    "    tokens = processed_text[i] # body of the document\n",
    "    for w in tokens:\n",
    "        try:\n",
    "            DF[w].add(i)\n",
    "        except:\n",
    "            DF[w] = {i}\n",
    "\n",
    "    tokens = processed_title[i]\n",
    "    for w in tokens:\n",
    "        try:\n",
    "            DF[w].add(i)\n",
    "        except:\n",
    "            DF[w] = {i}\n",
    "            \n",
    "for i in DF:\n",
    "    DF[i] = len(DF[i]) # unique words, we don’t actually need the list of docs, we just need the count\n",
    "\n",
    "total_vocab_size = len(DF)\n",
    "total_vocab = [x for x in DF]\n",
    "\n",
    "#getter\n",
    "def doc_freq(word):\n",
    "    try:\n",
    "        return DF[word]\n",
    "    except:\n",
    "        return 0"
   ]
  },
  {
   "cell_type": "code",
   "execution_count": 13,
   "metadata": {},
   "outputs": [],
   "source": [
    "# let’s use dictionary with (document, token) pair as key and any TF-IDF score as the value\n",
    "# tf_idf dictionary is for body, we will use the same logic for to build a dictionary tf_idf_title for the words in title.\n",
    "from collections import Counter\n",
    "\n",
    "# Calculate TF-IDF for Body for all docs\n",
    "doc = 0\n",
    "tf_idf = {}\n",
    "#iterate over all documents\n",
    "for i in range(N):  \n",
    "    tokens = processed_text[i]\n",
    "    counter = Counter(tokens + processed_title[i])  \n",
    "    words_count = len(tokens + processed_title[i])\n",
    "    # Counter can give us the frequency of the tokens, calculate tf and idf and finally store as a (doc, token) pair in tf_idf.\n",
    "    for token in np.unique(tokens):      \n",
    "        tf = counter[token]/words_count\n",
    "        df = doc_freq(token)\n",
    "        idf = np.log((N+1)/(df+1)) #numerator is added 1 to avoid negative values\n",
    "        tf_idf[doc, token] = tf*idf\n",
    "    doc += 1\n",
    "\n",
    "# Calculate TF-IDF for title for all docs   \n",
    "doc = 0\n",
    "tf_idf_title = {}\n",
    "for i in range(N):\n",
    "    tokens = processed_title[i]\n",
    "    counter = Counter(tokens + processed_text[i])\n",
    "    words_count = len(tokens + processed_text[i])\n",
    "    for token in np.unique(tokens):\n",
    "        tf = counter[token]/words_count\n",
    "        df = doc_freq(token)\n",
    "        idf = np.log((N+1)/(df+1)) #numerator is added 1 to avoid negative values\n",
    "        tf_idf_title[doc, token] = tf*idf\n",
    "    doc += 1"
   ]
  },
  {
   "cell_type": "code",
   "execution_count": 14,
   "metadata": {},
   "outputs": [],
   "source": [
    "alpha = 0.3\n",
    "# Merging the TF-IDF according to weights\n",
    "# multiply the Body TF-IDF with alpha\n",
    "for i in tf_idf:\n",
    "    tf_idf[i] *= alpha\n",
    "# Iterate Title IF-IDF for every (doc, token)\n",
    "# if token is in body, replace the Body(doc, token) value with the value in Title(doc, token)\n",
    "for i in tf_idf_title:\n",
    "    tf_idf[i] = tf_idf_title[i]"
   ]
  },
  {
   "cell_type": "code",
   "execution_count": 15,
   "metadata": {},
   "outputs": [],
   "source": [
    "# vectorize documents\n",
    "D = np.zeros((N, total_vocab_size))\n",
    "for i in tf_idf:\n",
    "    try:\n",
    "        ind = total_vocab.index(i[1]) # generate a index for each token\n",
    "        D[i[0]][ind] = tf_idf[i] # document vectors\n",
    "    except:\n",
    "        pass"
   ]
  },
  {
   "cell_type": "markdown",
   "metadata": {},
   "source": [
    "## Ranking"
   ]
  },
  {
   "cell_type": "code",
   "execution_count": 21,
   "metadata": {},
   "outputs": [],
   "source": [
    "# (pre)process question and print\n",
    "def query_tokenize(query):\n",
    "    preprocessed_query = preprocess(query)\n",
    "    tokens = word_tokenize(str(preprocessed_query))\n",
    "    \n",
    "    print(\"\\nQuery:\", query)\n",
    "    print(tokens)\n",
    "    print(\"\")\n",
    "    \n",
    "    return tokens"
   ]
  },
  {
   "cell_type": "markdown",
   "metadata": {},
   "source": [
    "#### option 1:"
   ]
  },
  {
   "cell_type": "code",
   "execution_count": 28,
   "metadata": {},
   "outputs": [],
   "source": [
    "# theoretical concept: add tf_idf values of the tokens that are in query for every document.\n",
    "# Iterate over all values in the dictionary and check if the value is present in the token.\n",
    "# As our dictionary is a (document, token) key, when we find a token which is in query we will\n",
    "# add the document id to another dictionary along with the tf-idf value\n",
    "def matching_score(k, query):\n",
    "    print(\">>Matching score\")\n",
    "    \n",
    "    tokens = query_tokenize(query)\n",
    "    \n",
    "    query_weights = {}\n",
    "    for key in tf_idf:  \n",
    "        if key[1] in tokens:\n",
    "            try:\n",
    "                query_weights[key[0]] += tf_idf[key]\n",
    "            except:\n",
    "                query_weights[key[0]] = tf_idf[key]\n",
    "    \n",
    "    # return the top k articles\n",
    "    query_weights = sorted(query_weights.items(), key=lambda x: x[1], reverse=True) # sort by score/relevance\n",
    "    ranking =[]\n",
    "    print(\"Most related articles:\")\n",
    "    for i in query_weights[:k]: # i[0] is index of article in dataset\n",
    "        print(dataset[i[0]][0], dataset[i[0]][2], i[1]) # print article_id, article_title and score\n",
    "        ranking.append(dataset[i[0]][2]) # article_title\n",
    "    return ranking"
   ]
  },
  {
   "cell_type": "markdown",
   "metadata": {},
   "source": [
    "#### option 2:"
   ]
  },
  {
   "cell_type": "code",
   "execution_count": 26,
   "metadata": {},
   "outputs": [],
   "source": [
    "import math\n",
    "# vectorize query\n",
    "def query_vectorize(tokens):\n",
    "    Q = np.zeros((len(total_vocab)))\n",
    "    counter = Counter(tokens)\n",
    "    words_count = len(tokens)\n",
    "    query_weights = {}\n",
    "    for token in np.unique(tokens):\n",
    "        tf = counter[token]/words_count\n",
    "        df = doc_freq(token)\n",
    "        idf = math.log((N+1)/(df+1))\n",
    "        try:\n",
    "            ind = total_vocab.index(token)\n",
    "            Q[ind] = tf*idf\n",
    "        except:\n",
    "            pass\n",
    "    return Q\n",
    "\n",
    "def cosine_similarity(k, query):\n",
    "    print(\">>Cosine Similarity\")\n",
    "    \n",
    "    tokens = query_tokenize(query)\n",
    "    \n",
    "    query_vector = query_vectorize(tokens)\n",
    "    \n",
    "    # measure similarity\n",
    "    d_cosines = []\n",
    "    for d in D:\n",
    "        similarity = np.dot(query_vector, d)/(np.linalg.norm(query_vector)*np.linalg.norm(d))\n",
    "        d_cosines.append(similarity)\n",
    "\n",
    "    # return the top k articles\n",
    "    ranking = np.array(d_cosines).argsort()[-k:][::-1].tolist() \n",
    "    \n",
    "    print(\"Most related articles:\")\n",
    "    for i in ranking:\n",
    "        print(dataset[i][0], dataset[i][2], d_cosines[i]) # print article_id, article_title and score\n",
    "    return [dataset[i][2] for i in ranking]"
   ]
  },
  {
   "cell_type": "markdown",
   "metadata": {},
   "source": [
    "## Test"
   ]
  },
  {
   "cell_type": "code",
   "execution_count": 36,
   "metadata": {},
   "outputs": [
    {
     "name": "stdout",
     "output_type": "stream",
     "text": [
      "6\n",
      "['What is anarchism?', 'What does ASD stand for?', 'From what age is Autism diagnosable?', 'Is there a cure for Autism?', 'Can Autism be treated?', 'Where is Achilles famous for?']\n",
      "['Anarchism', 'Autism', 'Autism', 'Autism', 'Autism', 'Achilles']\n"
     ]
    }
   ],
   "source": [
    "# create tuples of test cases (question, correct article)\n",
    "questions = [(\"What is anarchism?\",\"Anarchism\"),(\"What does ASD stand for?\",\"Autism\"),(\"From what age is Autism diagnosable?\",\"Autism\"),(\"Is there a cure for Autism?\",\"Autism\"),(\"Can Autism be treated?\",\"Autism\"),(\"Where is Achilles famous for?\",\"Achilles\")]\n",
    "print(len(questions))\n",
    "X = [pair[0] for pair in questions]\n",
    "print(X)\n",
    "y = [pair[1] for pair in questions]\n",
    "print(y)"
   ]
  },
  {
   "cell_type": "code",
   "execution_count": 37,
   "metadata": {},
   "outputs": [
    {
     "name": "stdout",
     "output_type": "stream",
     "text": [
      ">>Matching score\n",
      "\n",
      "Query: What is anarchism?\n",
      "['anarchism']\n",
      "\n",
      "Most related articles:\n",
      "12 Anarchism 0.034984072258514264\n",
      ">>Cosine Similarity\n",
      "\n",
      "Query: What is anarchism?\n",
      "['anarchism']\n",
      "\n",
      "Most related articles:\n",
      "12 Anarchism 0.9415639737443022\n",
      "305 Achilles 0.0\n",
      "303 Alabama 0.0\n",
      "290 A 0.0\n",
      "39 Albedo 0.0\n",
      "25 Autism 0.0\n",
      ">>Matching score\n",
      "\n",
      "Query: What does ASD stand for?\n",
      "['asd', 'stand']\n",
      "\n",
      "Most related articles:\n",
      "25 Autism 0.0047025636955531835\n",
      ">>Cosine Similarity\n",
      "\n",
      "Query: What does ASD stand for?\n",
      "['asd', 'stand']\n",
      "\n",
      "Most related articles:\n",
      "25 Autism 0.09052321736603729\n",
      "305 Achilles 0.0\n",
      "303 Alabama 0.0\n",
      "290 A 0.0\n",
      "39 Albedo 0.0\n",
      "12 Anarchism 0.0\n",
      ">>Matching score\n",
      "\n",
      "Query: From what age is Autism diagnosable?\n",
      "['age', 'autism', 'diagnosable']\n",
      "\n",
      "Most related articles:\n",
      "25 Autism 0.05141788587136112\n",
      "12 Anarchism 4.465019584591138e-05\n",
      "303 Alabama 2.5207918375469487e-05\n",
      ">>Cosine Similarity\n",
      "\n",
      "Query: From what age is Autism diagnosable?\n",
      "['age', 'autism', 'diagnosable']\n",
      "\n",
      "Most related articles:\n",
      "25 Autism 0.8975858098250443\n",
      "12 Anarchism 0.000490134772435376\n",
      "303 Alabama 0.00026251009508974194\n",
      "305 Achilles 0.0\n",
      "290 A 0.0\n",
      "39 Albedo 0.0\n",
      ">>Matching score\n",
      "\n",
      "Query: Is there a cure for Autism?\n",
      "['cure', 'autism']\n",
      "\n",
      "Most related articles:\n",
      "25 Autism 0.05116389300761864\n",
      ">>Cosine Similarity\n",
      "\n",
      "Query: Is there a cure for Autism?\n",
      "['cure', 'autism']\n",
      "\n",
      "Most related articles:\n",
      "25 Autism 0.696424239695315\n",
      "305 Achilles 0.0\n",
      "303 Alabama 0.0\n",
      "290 A 0.0\n",
      "39 Albedo 0.0\n",
      "12 Anarchism 0.0\n",
      ">>Matching score\n",
      "\n",
      "Query: Can Autism be treated?\n",
      "['autism', 'treated']\n",
      "\n",
      "Most related articles:\n",
      "25 Autism 0.05091490981293342\n",
      "305 Achilles 8.123661173415184e-05\n",
      ">>Cosine Similarity\n",
      "\n",
      "Query: Can Autism be treated?\n",
      "['autism', 'treated']\n",
      "\n",
      "Most related articles:\n",
      "25 Autism 0.8111917434699757\n",
      "305 Achilles 0.000684423507508829\n",
      "303 Alabama 0.0\n",
      "290 A 0.0\n",
      "39 Albedo 0.0\n",
      "12 Anarchism 0.0\n",
      ">>Matching score\n",
      "\n",
      "Query: Where is Achilles famous for?\n",
      "['achilles', 'famous']\n",
      "\n",
      "Most related articles:\n",
      "305 Achilles 0.06590466439999644\n",
      "12 Anarchism 6.760355269046838e-05\n",
      ">>Cosine Similarity\n",
      "\n",
      "Query: Where is Achilles famous for?\n",
      "['achilles', 'famous']\n",
      "\n",
      "Most related articles:\n",
      "305 Achilles 0.8199775609683637\n",
      "12 Anarchism 0.0010193440905051396\n",
      "303 Alabama 0.0\n",
      "290 A 0.0\n",
      "39 Albedo 0.0\n",
      "25 Autism 0.0\n"
     ]
    }
   ],
   "source": [
    "rankings_ms =[]\n",
    "rankings_cs =[]\n",
    "for question in X: # retrieve 10 most related articles\n",
    "    ranking_ms = matching_score(10,question)\n",
    "    rankings_ms.append(ranking_ms)\n",
    "    ranking_cs = cosine_similarity(10,question)\n",
    "    rankings_cs.append(ranking_cs)"
   ]
  },
  {
   "cell_type": "code",
   "execution_count": 39,
   "metadata": {},
   "outputs": [],
   "source": [
    "def score(y_correct,y_predicted):\n",
    "    correct = 0\n",
    "    score = 0\n",
    "    for i in range(len(y_correct)): # test case i\n",
    "        if y_correct[i] in y_predicted[i]: # in top 10\n",
    "            correct=+1\n",
    "            score=+y_predicted[i].index(y_correct[i]) # the lower the index the higher ranked\n",
    "        else:\n",
    "            score =+11 # at least not in top 10\n",
    "    print(\"Correctly retrieved:\", correct, \"Minimized score:\", score)       "
   ]
  },
  {
   "cell_type": "code",
   "execution_count": 40,
   "metadata": {},
   "outputs": [
    {
     "name": "stdout",
     "output_type": "stream",
     "text": [
      "Matching score performance:\n",
      "Correctly retrieved: 1 Minimized score: 0\n",
      "Cosine similarity performance:\n",
      "Correctly retrieved: 1 Minimized score: 0\n"
     ]
    }
   ],
   "source": [
    "print(\"Matching score performance:\")\n",
    "score(y,rankings_ms)\n",
    "print(\"Cosine similarity performance:\")\n",
    "score(y,rankings_cs)"
   ]
  },
  {
   "cell_type": "markdown",
   "metadata": {},
   "source": [
    "### influence of choice of words"
   ]
  },
  {
   "cell_type": "code",
   "execution_count": 41,
   "metadata": {},
   "outputs": [
    {
     "name": "stdout",
     "output_type": "stream",
     "text": [
      ">>Matching score\n",
      "\n",
      "Query: Is there a cure for Autism?\n",
      "['cure', 'autism']\n",
      "\n",
      "Most related articles:\n",
      "25 Autism 0.05116389300761864\n",
      "\n",
      ">>Cosine Similarity\n",
      "\n",
      "Query: Is there a cure for Autism?\n",
      "['cure', 'autism']\n",
      "\n",
      "Most related articles:\n",
      "25 Autism 0.696424239695315\n",
      "305 Achilles 0.0\n",
      "303 Alabama 0.0\n",
      "290 A 0.0\n",
      "39 Albedo 0.0\n",
      "12 Anarchism 0.0\n"
     ]
    },
    {
     "data": {
      "text/plain": [
       "['Autism', 'Achilles', 'Alabama', 'A', 'Albedo', 'Anarchism']"
      ]
     },
     "execution_count": 41,
     "metadata": {},
     "output_type": "execute_result"
    }
   ],
   "source": [
    "query = \"Is there a cure for Autism?\"\n",
    "ranking_ms = matching_score(10,query)\n",
    "print(\"\")\n",
    "cosine_similarity(10,query)"
   ]
  },
  {
   "cell_type": "code",
   "execution_count": 42,
   "metadata": {},
   "outputs": [
    {
     "name": "stdout",
     "output_type": "stream",
     "text": [
      ">>Matching score\n",
      "\n",
      "Query: Can Autism be treated?\n",
      "['autism', 'treated']\n",
      "\n",
      "Most related articles:\n",
      "25 Autism 0.05091490981293342\n",
      "305 Achilles 8.123661173415184e-05\n",
      "\n",
      ">>Cosine Similarity\n",
      "\n",
      "Query: Can Autism be treated?\n",
      "['autism', 'treated']\n",
      "\n",
      "Most related articles:\n",
      "25 Autism 0.8111917434699757\n",
      "305 Achilles 0.000684423507508829\n",
      "303 Alabama 0.0\n",
      "290 A 0.0\n",
      "39 Albedo 0.0\n",
      "12 Anarchism 0.0\n"
     ]
    },
    {
     "data": {
      "text/plain": [
       "['Autism', 'Achilles', 'Alabama', 'A', 'Albedo', 'Anarchism']"
      ]
     },
     "execution_count": 42,
     "metadata": {},
     "output_type": "execute_result"
    }
   ],
   "source": [
    "query = \"Can Autism be treated?\" # same question as previous one, different formulation\n",
    "ranking_ms = matching_score(10,query)\n",
    "print(\"\")\n",
    "cosine_similarity(10,query)"
   ]
  },
  {
   "cell_type": "code",
   "execution_count": null,
   "metadata": {},
   "outputs": [],
   "source": []
  }
 ],
 "metadata": {
  "kernelspec": {
   "display_name": "Python 3",
   "language": "python",
   "name": "python3"
  },
  "language_info": {
   "codemirror_mode": {
    "name": "ipython",
    "version": 3
   },
   "file_extension": ".py",
   "mimetype": "text/x-python",
   "name": "python",
   "nbconvert_exporter": "python",
   "pygments_lexer": "ipython3",
   "version": "3.6.5"
  }
 },
 "nbformat": 4,
 "nbformat_minor": 2
}
